{
 "cells": [
  {
   "cell_type": "markdown",
   "metadata": {},
   "source": [
    "### Import"
   ]
  },
  {
   "cell_type": "code",
   "execution_count": null,
   "metadata": {},
   "outputs": [],
   "source": [
    "setwd(\"C:/Users/user/Desktop/Statistics/Bigdata_analysis/Project\")\n",
    "\n",
    "library(data.table)\n",
    "library(tidyverse)\n",
    "\n",
    "Melon <- fread('bind_data_Melon/Melon.csv')[,-1]"
   ]
  },
  {
   "cell_type": "markdown",
   "metadata": {},
   "source": [
    "### Preprocessing"
   ]
  },
  {
   "cell_type": "code",
   "execution_count": null,
   "metadata": {},
   "outputs": [],
   "source": [
    "Melon$flac[Melon$flac == \"\"] <- \"No_Flac\"\n",
    "Melon$like <- gsub(\"[가-힣]\", \"\", Melon$like)\n",
    "Melon$like <- gsub(\",\", \"\", Melon$like)\n",
    "Melon$reply <- gsub(\"[가-힣]\", \"\", Melon$reply)\n",
    "Melon$reply <- gsub(\",\", \"\", Melon$reply)\n",
    "Melon <- Melon[!(Melon$lyric == \"\")]\n",
    "\n",
    "Melon$artist <- as.factor(Melon$artist)\n",
    "Melon$flac <- as.factor(Melon$flac)\n",
    "Melon$like <- as.numeric(Melon$like)\n",
    "Melon$reply <- as.numeric(Melon$reply)"
   ]
  },
  {
   "cell_type": "code",
   "execution_count": null,
   "metadata": {},
   "outputs": [],
   "source": [
    "# genre 범주 줄이기\n",
    "genre_list <- data.frame(table(Melon$genre)[table(Melon$genre)>10])$Var1\n",
    "genre_list <- genre_list[-c(14, 17, 21:27)]\n",
    "\n",
    "Melon <- Melon %>% filter(genre %in% genre_list)\n",
    "\n",
    "## genre 별로 데이터 살펴보기\n",
    "temp1 <- Melon %>% filter(genre == \"New Age\")\n",
    "temp2 <- Melon %>% filter(genre == \"Pop\")\n",
    "temp3 <- Melon %>% filter(genre == \"Rock\")\n",
    "temp[24,]$lyric\n",
    "\n",
    "CompressGenre <- function(x){\n",
    "  y <- c()\n",
    "  for(i in 1:length(x)){\n",
    "    if(x[i] %in% c(\"Animation\", \"Game\")) y <- c(y, \"Animation / Game\")\n",
    "    else if(x[i] %in% c(\"Crossover\", \"Musical\")) y <- c(y, \"Crossover / Musical\")\n",
    "    else if(x[i] %in% c(\"Drama\", \"Korean Movie\")) y <- c(y, \"Drama / Korean Movie\")\n",
    "    else if(x[i] %in% c(\"Blues\", \"Jazz\", \"New Age\")) y <- c(y, \"Blues / Jazz / New Age\")\n",
    "    else if(x[i] %in% c(\"Electronica\", \"Rock\", \"Electronica,Rock\")) y <- c(y, \"Electronica / Rock\")\n",
    "    else y <- c(y, x[i])\n",
    "  }\n",
    "  return(y)\n",
    "}\n",
    "\n",
    "Melon$genre <- CompressGenre(Melon$genre)\n",
    "Melon$genre <- as.factor(Melon$genre)\n",
    "data.frame(table(Melon$genre))\n",
    "pie(table(Melon$genre))\n",
    "barplot(table(Melon$genre))"
   ]
  },
  {
   "cell_type": "code",
   "execution_count": null,
   "metadata": {},
   "outputs": [],
   "source": [
    "# 계절, 월, 연도 만들기\n",
    "Melon$Year <- substr(Melon$date, 1, 4)\n",
    "Melon$Year <- as.factor(Melon$Year)\n",
    "\n",
    "Melon$Mon <- substr(Melon$date, 6, 7)\n",
    "Melon$Mon <- as.factor(Melon$Mon)\n",
    "\n",
    "Mon2Season <- function(x){\n",
    "  y <- c()\n",
    "  for(i in 1:length(x)){\n",
    "    if(x[i] %in% c(\"03\", \"04\", \"05\")) y <- c(y, \"spring\")\n",
    "    else if(x[i] %in% c(\"06\", \"07\", \"08\")) y <- c(y, \"summer\")\n",
    "    else if(x[i] %in% c(\"09\", \"10\", \"11\")) y <- c(y, \"fall\")\n",
    "    else y <- c(y, \"winter\")\n",
    "  }\n",
    "  return(y)\n",
    "}\n",
    "\n",
    "Melon$Season <- Mon2Season(Melon$Mon)\n",
    "Melon$Season <- as.factor(Melon$Season)"
   ]
  },
  {
   "cell_type": "code",
   "execution_count": null,
   "metadata": {},
   "outputs": [],
   "source": [
    "# reply와 like의 상관관계 살펴보기\n",
    "temp <- Melon %>% filter(complete.cases(Melon))\n",
    "temp$title # 손으로 채우기\n",
    "summary(Melon)\n",
    "data.frame(table(Melon$genre))\n",
    "\n",
    "barplot(Melon$reply)\n",
    "barplot(Melon$like)\n",
    "\n",
    "cor(temp$like, temp$reply)\n",
    "plot(temp$like, temp$reply)\n",
    "\n",
    "temp %>% \n",
    "  ggplot(aes(like, reply))+\n",
    "  geom_point()+\n",
    "  facet_wrap(~ genre)"
   ]
  },
  {
   "cell_type": "code",
   "execution_count": null,
   "metadata": {},
   "outputs": [],
   "source": [
    "# 작사, 작곡, 편곡\n",
    "temp1 <- Melon %>% filter(lyricist == \"\")\n",
    "temp2 <- Melon %>% filter(composer == \"\")\n",
    "temp3 <- Melon %>% filter(arranger == \"\")\n",
    "temp4 <- Melon %>% filter(lyricist == \"\")%>% filter(composer == \"\")%>% filter(arranger == \"\")\n",
    "\n",
    "temp <- data.frame(table(Melon$artist))\n",
    "temp2 <- temp[order(temp$Freq, decreasing = T),]"
   ]
  },
  {
   "cell_type": "code",
   "execution_count": null,
   "metadata": {},
   "outputs": [],
   "source": [
    "# 필요 없는 변수 제거\n",
    "temp <- Melon %>% select(-date, -Mon, -lyricist, -composer, -arranger)\n",
    "write.csv(temp, \"Melon_tidy.csv\")\n",
    "\n",
    "\n",
    "temp <- fread(\"word_count_temp.txt\", header = F)\n",
    "temp <- data.frame(t(temp))\n",
    "temp <- temp[-38260,]\n",
    "temp <- data.frame(cnt = temp)\n",
    "barplot(temp)\n",
    "temp_vec <- which((temp < 50), temp)\n",
    "\n",
    "Melon_tidy <- fread('bind_data_Melon/Melon_tidy.csv')[,-1]\n",
    "\n",
    "temp2 <- Melon_tidy[temp_vec,]\n",
    "\n",
    "summary(Melon_tidy$like)"
   ]
  }
 ],
 "metadata": {
  "kernelspec": {
   "display_name": "R",
   "language": "R",
   "name": "ir"
  },
  "language_info": {
   "codemirror_mode": "r",
   "file_extension": ".r",
   "mimetype": "text/x-r-source",
   "name": "R",
   "pygments_lexer": "r",
   "version": "3.4.3"
  }
 },
 "nbformat": 4,
 "nbformat_minor": 2
}
