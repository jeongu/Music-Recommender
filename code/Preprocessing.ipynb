{
 "cells": [
  {
   "cell_type": "markdown",
   "metadata": {},
   "source": [
    "### 멜론 데이터 불러오기"
   ]
  },
  {
   "cell_type": "code",
   "execution_count": 19,
   "metadata": {
    "collapsed": true
   },
   "outputs": [],
   "source": [
    "import csv\n",
    "f = open('bind_data_melon/Melon_tidy.csv', 'r', encoding='ANSI')\n",
    "Melon = []\n",
    "Melon_ID_TA = []\n",
    "fc = csv.reader(f)\n",
    "for line in fc:\n",
    "    Melon.append(line)\n",
    "    Melon_ID_TA.append([line[0], line[1]+\" \"+line[2]])\n",
    "f.close()"
   ]
  },
  {
   "cell_type": "code",
   "execution_count": 20,
   "metadata": {
    "collapsed": false,
    "scrolled": true
   },
   "outputs": [
    {
     "data": {
      "text/plain": [
       "[['',\n",
       "  'title',\n",
       "  'artist',\n",
       "  'album',\n",
       "  'genre',\n",
       "  'flac',\n",
       "  'like',\n",
       "  'reply',\n",
       "  'lyric',\n",
       "  'Year',\n",
       "  'Season'],\n",
       " ['1',\n",
       "  '더 (PROD. 브라더수)',\n",
       "  '유승우',\n",
       "  'ROMANCE',\n",
       "  'Ballad',\n",
       "  'Flac 16bit',\n",
       "  '975',\n",
       "  '6',\n",
       "  '더 가까워지지 말자 그냥 그 정도까지만 다치고 싶지 않아 너도 그렇잖아 똑같은 맘이잖아 이쯤 멈추자 더 심각해지지 말자 후회할 일 만들지 말자 애타고 싶지 않아 설렘도 다 싫증 나 지금처럼 혼자가 나쁘진 않아 난 이 얘기의 끝을 이미 알아 지금도 충분히 괜찮잖아 한 번 겪어봤음 알잖아 또 데이는 건 바보 같아 난 더 하고 싶지 않아 오 난 더 욕심내지 말자 잠깐 행복하겠지만 떠오를 때마다 따끔거릴 얘기가 하나 더 생길 뿐이야 그럴 거잖아 난 이 얘기의 끝을 이미 알아 지금도 충분히 괜찮잖아 한 번 겪어봤음 알잖아 또 데이는 건 바보 같아 난 더 하고 싶지 않아 몇 번을 겪어도 익숙하지 않던 마지막 장면은 이제 싫어 난 이미 알면서도 흔들리고 있어 난 자신이 없어 니가 거기 멈춰줘 난 우리란 이름이 아직 겁나 너도 아픈 상처로 남을까 봐 겪어봐서 알잖아 이런 난 참 바보 같지만 더 아프고 싶지 않아',\n",
       "  '2017',\n",
       "  'fall']]"
      ]
     },
     "execution_count": 20,
     "metadata": {},
     "output_type": "execute_result"
    }
   ],
   "source": [
    "Melon[:2]"
   ]
  },
  {
   "cell_type": "code",
   "execution_count": 21,
   "metadata": {
    "collapsed": false
   },
   "outputs": [
    {
     "data": {
      "text/plain": [
       "[['', 'title artist'], ['1', '더 (PROD. 브라더수) 유승우']]"
      ]
     },
     "execution_count": 21,
     "metadata": {},
     "output_type": "execute_result"
    }
   ],
   "source": [
    "Melon_ID_TA[:2]"
   ]
  },
  {
   "cell_type": "markdown",
   "metadata": {},
   "source": [
    "### 지니 데이터 불러오기"
   ]
  },
  {
   "cell_type": "code",
   "execution_count": 22,
   "metadata": {
    "collapsed": true
   },
   "outputs": [],
   "source": [
    "f = open('bind_data_ginie/My.csv', 'r', encoding='ANSI')\n",
    "Genie = []\n",
    "Genie_Cnt_TA = []\n",
    "fc = csv.reader(f)\n",
    "for line in fc:\n",
    "    Genie.append(line)\n",
    "    Genie_Cnt_TA.append([line[5], line[2]+\" \"+line[3]])\n",
    "f.close()"
   ]
  },
  {
   "cell_type": "code",
   "execution_count": 23,
   "metadata": {
    "collapsed": false
   },
   "outputs": [
    {
     "data": {
      "text/plain": [
       "[['', 'ID', 'Title', 'Artist', 'Album', 'Cnt'],\n",
       " ['1', '1', '매일 듣는 노래 (A Daily Song)', '황치열', 'Be ordinary', '81']]"
      ]
     },
     "execution_count": 23,
     "metadata": {},
     "output_type": "execute_result"
    }
   ],
   "source": [
    "Genie[:2]"
   ]
  },
  {
   "cell_type": "code",
   "execution_count": 24,
   "metadata": {
    "collapsed": false,
    "scrolled": false
   },
   "outputs": [
    {
     "data": {
      "text/plain": [
       "[['Cnt', 'Title Artist'], ['81', '매일 듣는 노래 (A Daily Song) 황치열']]"
      ]
     },
     "execution_count": 24,
     "metadata": {},
     "output_type": "execute_result"
    }
   ],
   "source": [
    "Genie_Cnt_TA[:2]"
   ]
  },
  {
   "cell_type": "code",
   "execution_count": 25,
   "metadata": {
    "collapsed": false
   },
   "outputs": [],
   "source": [
    "Genie_Cnt_TA[0][1] = 'title artist'"
   ]
  },
  {
   "cell_type": "markdown",
   "metadata": {},
   "source": [
    "### 지니에서 플레이한 정보와 멜론데이터 매칭하기"
   ]
  },
  {
   "cell_type": "code",
   "execution_count": null,
   "metadata": {
    "collapsed": true
   },
   "outputs": [],
   "source": [
    "# 우선 이 과정 생략하고, 내 플레이리스트에 있는 노래들만 가지고 결과를 만들자. 시간이 없다...\n",
    "'''\n",
    "check = []\n",
    "for i in range(1, len(genie_TA)):\n",
    "    if genie_TA[i] not in Melon_TA: check.append(genie_TA[i])\n",
    "\n",
    "len(check) # 이렇게나 많이 없다니..\n",
    "\n",
    "check\n",
    "\n",
    "# genie 노래 제목만 따와보자\n",
    "f = open('C:/Users/user/Desktop/Statistics/Bigdata_analysis/Project/bind_data_ginie/My.csv', 'r', encoding='ANSI')\n",
    "temp = []\n",
    "fc = csv.reader(f)\n",
    "for line in fc:\n",
    "    temp.append(line[2])\n",
    "f.close()\n",
    "'''"
   ]
  },
  {
   "cell_type": "code",
   "execution_count": 26,
   "metadata": {
    "collapsed": true
   },
   "outputs": [],
   "source": [
    "# 지니와 멜론을 하나하나 비교하면서 지니에서 플레이한 리스트가 멜론에 있으면\n",
    "# cnt정보 넣어 주고 그렇지 않으면 0을 넣어준다.\n",
    "Melon_ID_Cnt = []\n",
    "for item in Genie_Cnt_TA:\n",
    "    for item2 in Melon_ID_TA:\n",
    "        if item[1] == item2[1]:\n",
    "            Melon_ID_Cnt.append([item2[0], item[0]])\n",
    "            break"
   ]
  },
  {
   "cell_type": "code",
   "execution_count": 27,
   "metadata": {
    "collapsed": false
   },
   "outputs": [
    {
     "data": {
      "text/plain": [
       "136"
      ]
     },
     "execution_count": 27,
     "metadata": {},
     "output_type": "execute_result"
    }
   ],
   "source": [
    "temp = []\n",
    "for item in Melon_ID_Cnt:\n",
    "    if item != \"0\": temp.append(item)\n",
    "\n",
    "len(temp)\n",
    "# break 안걸었을때와 5개 차이나네. 플레이 리스트에 들어있는 노래중에 5번?정도의 중복이 있구나."
   ]
  },
  {
   "cell_type": "code",
   "execution_count": 28,
   "metadata": {
    "collapsed": false
   },
   "outputs": [
    {
     "data": {
      "text/plain": [
       "[['', 'Cnt'],\n",
       " ['2862', '81'],\n",
       " ['29009', '71'],\n",
       " ['13062', '63'],\n",
       " ['2959', '62'],\n",
       " ['18377', '56'],\n",
       " ['883', '48'],\n",
       " ['519', '45'],\n",
       " ['28647', '41'],\n",
       " ['2706', '37'],\n",
       " ['19869', '16'],\n",
       " ['19841', '16'],\n",
       " ['240', '16'],\n",
       " ['742', '15'],\n",
       " ['28254', '15'],\n",
       " ['31612', '14'],\n",
       " ['711', '14'],\n",
       " ['12293', '14'],\n",
       " ['2808', '13'],\n",
       " ['2742', '13'],\n",
       " ['8106', '13'],\n",
       " ['18706', '13'],\n",
       " ['19901', '13'],\n",
       " ['18337', '12'],\n",
       " ['1077', '12'],\n",
       " ['714', '12'],\n",
       " ['470', '12'],\n",
       " ['1085', '12'],\n",
       " ['2955', '12'],\n",
       " ['12297', '12'],\n",
       " ['12566', '12'],\n",
       " ['12332', '11'],\n",
       " ['2508', '11'],\n",
       " ['1107', '11'],\n",
       " ['1110', '11'],\n",
       " ['19544', '10'],\n",
       " ['1963', '10'],\n",
       " ['1307', '10'],\n",
       " ['1327', '10'],\n",
       " ['12304', '10'],\n",
       " ['2801', '10'],\n",
       " ['2803', '9'],\n",
       " ['12415', '9'],\n",
       " ['12673', '9'],\n",
       " ['12552', '9'],\n",
       " ['12459', '9'],\n",
       " ['1133', '9'],\n",
       " ['1827', '9'],\n",
       " ['1056', '9'],\n",
       " ['1104', '9'],\n",
       " ['37286', '9'],\n",
       " ['19277', '9'],\n",
       " ['18557', '8'],\n",
       " ['18890', '8'],\n",
       " ['19222', '8'],\n",
       " ['28192', '8'],\n",
       " ['28699', '8'],\n",
       " ['30671', '8'],\n",
       " ['7101', '8'],\n",
       " ['33972', '8'],\n",
       " ['18449', '36'],\n",
       " ['18351', '36'],\n",
       " ['19457', '35'],\n",
       " ['1186', '32'],\n",
       " ['1691', '8'],\n",
       " ['820', '8'],\n",
       " ['775', '8'],\n",
       " ['2120', '8'],\n",
       " ['2257', '8'],\n",
       " ['1487', '8'],\n",
       " ['12572', '8'],\n",
       " ['2534', '8'],\n",
       " ['2756', '7'],\n",
       " ['2652', '7'],\n",
       " ['12271', '7'],\n",
       " ['12330', '7'],\n",
       " ['12347', '7'],\n",
       " ['12619', '7'],\n",
       " ['1631', '7'],\n",
       " ['2386', '7'],\n",
       " ['2206', '7'],\n",
       " ['638', '7'],\n",
       " ['30087', '7'],\n",
       " ['32270', '7'],\n",
       " ['18297', '6'],\n",
       " ['29523', '6'],\n",
       " ['32486', '6'],\n",
       " ['36097', '6'],\n",
       " ['15247', '6'],\n",
       " ['11367', '6'],\n",
       " ['647', '6'],\n",
       " ['574', '6'],\n",
       " ['541', '6'],\n",
       " ['2479', '6'],\n",
       " ['2475', '6'],\n",
       " ['2136', '6'],\n",
       " ['1178', '6'],\n",
       " ['1333', '6'],\n",
       " ['1802', '6'],\n",
       " ['12280', '6'],\n",
       " ['2891', '6'],\n",
       " ['19150', '30'],\n",
       " ['18622', '30'],\n",
       " ['12734', '29'],\n",
       " ['28655', '29'],\n",
       " ['2342', '28'],\n",
       " ['12438', '28'],\n",
       " ['12422', '27'],\n",
       " ['33192', '27'],\n",
       " ['1113', '26'],\n",
       " ['1197', '24'],\n",
       " ['771', '24'],\n",
       " ['30546', '24'],\n",
       " ['31428', '23'],\n",
       " ['28717', '23'],\n",
       " ['836', '23'],\n",
       " ['807', '21'],\n",
       " ['12229', '21'],\n",
       " ['503', '21'],\n",
       " ['18611', '20'],\n",
       " ['2968', '20'],\n",
       " ['747', '19'],\n",
       " ['831', '19'],\n",
       " ['19696', '19'],\n",
       " ['18694', '19'],\n",
       " ['18530', '19'],\n",
       " ['31858', '18'],\n",
       " ['18450', '18'],\n",
       " ['2323', '18'],\n",
       " ['2115', '17'],\n",
       " ['1172', '17'],\n",
       " ['12551', '17'],\n",
       " ['2794', '17'],\n",
       " ['2928', '17'],\n",
       " ['774', '17'],\n",
       " ['19535', '17']]"
      ]
     },
     "execution_count": 28,
     "metadata": {},
     "output_type": "execute_result"
    }
   ],
   "source": [
    "Melon_ID_Cnt"
   ]
  },
  {
   "cell_type": "code",
   "execution_count": 29,
   "metadata": {
    "collapsed": false
   },
   "outputs": [],
   "source": [
    "Melon_ID_Cnt[0][0] = \"ID\""
   ]
  },
  {
   "cell_type": "code",
   "execution_count": 30,
   "metadata": {
    "collapsed": true
   },
   "outputs": [],
   "source": [
    "Melon[0] = ['ID', 'Title', 'Artist', 'Album', 'Genre', 'Flac', 'Like', 'Reply', 'Lyric', 'Year', 'Season']"
   ]
  },
  {
   "cell_type": "code",
   "execution_count": 31,
   "metadata": {
    "collapsed": false
   },
   "outputs": [
    {
     "data": {
      "text/plain": [
       "[['ID',\n",
       "  'Title',\n",
       "  'Artist',\n",
       "  'Album',\n",
       "  'Genre',\n",
       "  'Flac',\n",
       "  'Like',\n",
       "  'Reply',\n",
       "  'Lyric',\n",
       "  'Year',\n",
       "  'Season'],\n",
       " ['1',\n",
       "  '더 (PROD. 브라더수)',\n",
       "  '유승우',\n",
       "  'ROMANCE',\n",
       "  'Ballad',\n",
       "  'Flac 16bit',\n",
       "  '975',\n",
       "  '6',\n",
       "  '더 가까워지지 말자 그냥 그 정도까지만 다치고 싶지 않아 너도 그렇잖아 똑같은 맘이잖아 이쯤 멈추자 더 심각해지지 말자 후회할 일 만들지 말자 애타고 싶지 않아 설렘도 다 싫증 나 지금처럼 혼자가 나쁘진 않아 난 이 얘기의 끝을 이미 알아 지금도 충분히 괜찮잖아 한 번 겪어봤음 알잖아 또 데이는 건 바보 같아 난 더 하고 싶지 않아 오 난 더 욕심내지 말자 잠깐 행복하겠지만 떠오를 때마다 따끔거릴 얘기가 하나 더 생길 뿐이야 그럴 거잖아 난 이 얘기의 끝을 이미 알아 지금도 충분히 괜찮잖아 한 번 겪어봤음 알잖아 또 데이는 건 바보 같아 난 더 하고 싶지 않아 몇 번을 겪어도 익숙하지 않던 마지막 장면은 이제 싫어 난 이미 알면서도 흔들리고 있어 난 자신이 없어 니가 거기 멈춰줘 난 우리란 이름이 아직 겁나 너도 아픈 상처로 남을까 봐 겪어봐서 알잖아 이런 난 참 바보 같지만 더 아프고 싶지 않아',\n",
       "  '2017',\n",
       "  'fall']]"
      ]
     },
     "execution_count": 31,
     "metadata": {},
     "output_type": "execute_result"
    }
   ],
   "source": [
    "Melon[:2]"
   ]
  },
  {
   "cell_type": "code",
   "execution_count": 32,
   "metadata": {
    "collapsed": false
   },
   "outputs": [],
   "source": [
    "for item in Melon:\n",
    "    for item2 in Melon_ID_Cnt:\n",
    "        if item[0] == item2[0]: \n",
    "            item.append(item2[1])\n",
    "            break\n",
    "    if len(item) == 11: item.append(\"0\")"
   ]
  },
  {
   "cell_type": "code",
   "execution_count": 33,
   "metadata": {
    "collapsed": false
   },
   "outputs": [
    {
     "data": {
      "text/plain": [
       "[['ID',\n",
       "  'Title',\n",
       "  'Artist',\n",
       "  'Album',\n",
       "  'Genre',\n",
       "  'Flac',\n",
       "  'Like',\n",
       "  'Reply',\n",
       "  'Lyric',\n",
       "  'Year',\n",
       "  'Season',\n",
       "  'Cnt'],\n",
       " ['1',\n",
       "  '더 (PROD. 브라더수)',\n",
       "  '유승우',\n",
       "  'ROMANCE',\n",
       "  'Ballad',\n",
       "  'Flac 16bit',\n",
       "  '975',\n",
       "  '6',\n",
       "  '더 가까워지지 말자 그냥 그 정도까지만 다치고 싶지 않아 너도 그렇잖아 똑같은 맘이잖아 이쯤 멈추자 더 심각해지지 말자 후회할 일 만들지 말자 애타고 싶지 않아 설렘도 다 싫증 나 지금처럼 혼자가 나쁘진 않아 난 이 얘기의 끝을 이미 알아 지금도 충분히 괜찮잖아 한 번 겪어봤음 알잖아 또 데이는 건 바보 같아 난 더 하고 싶지 않아 오 난 더 욕심내지 말자 잠깐 행복하겠지만 떠오를 때마다 따끔거릴 얘기가 하나 더 생길 뿐이야 그럴 거잖아 난 이 얘기의 끝을 이미 알아 지금도 충분히 괜찮잖아 한 번 겪어봤음 알잖아 또 데이는 건 바보 같아 난 더 하고 싶지 않아 몇 번을 겪어도 익숙하지 않던 마지막 장면은 이제 싫어 난 이미 알면서도 흔들리고 있어 난 자신이 없어 니가 거기 멈춰줘 난 우리란 이름이 아직 겁나 너도 아픈 상처로 남을까 봐 겪어봐서 알잖아 이런 난 참 바보 같지만 더 아프고 싶지 않아',\n",
       "  '2017',\n",
       "  'fall',\n",
       "  '0']]"
      ]
     },
     "execution_count": 33,
     "metadata": {},
     "output_type": "execute_result"
    }
   ],
   "source": [
    "Melon[:2]"
   ]
  },
  {
   "cell_type": "code",
   "execution_count": 34,
   "metadata": {
    "collapsed": false
   },
   "outputs": [
    {
     "data": {
      "text/plain": [
       "['ID',\n",
       " 'Title',\n",
       " 'Artist',\n",
       " 'Album',\n",
       " 'Genre',\n",
       " 'Flac',\n",
       " 'Like',\n",
       " 'Reply',\n",
       " 'Lyric',\n",
       " 'Year',\n",
       " 'Season',\n",
       " 'Cnt']"
      ]
     },
     "execution_count": 34,
     "metadata": {},
     "output_type": "execute_result"
    }
   ],
   "source": [
    "Melon[0]"
   ]
  },
  {
   "cell_type": "code",
   "execution_count": 35,
   "metadata": {
    "collapsed": false
   },
   "outputs": [
    {
     "data": {
      "text/plain": [
       "dict_keys(['ID', 'Title', 'Artist', 'Album', 'Genre', 'Flac', 'Like', 'Reply', 'Lyric', 'Year', 'Season', 'Cnt'])"
      ]
     },
     "execution_count": 35,
     "metadata": {},
     "output_type": "execute_result"
    }
   ],
   "source": [
    "Melon_dict = {Melon[0][0] : [item[0] for item in Melon[1:]],\n",
    "              Melon[0][1] : [item[1] for item in Melon[1:]],\n",
    "              Melon[0][2] : [item[2] for item in Melon[1:]],\n",
    "              Melon[0][3] : [item[3] for item in Melon[1:]],\n",
    "              Melon[0][4] : [item[4] for item in Melon[1:]],\n",
    "              Melon[0][5] : [item[5] for item in Melon[1:]],\n",
    "              Melon[0][6] : [item[6] for item in Melon[1:]],\n",
    "              Melon[0][7] : [item[7] for item in Melon[1:]],\n",
    "              Melon[0][8] : [item[8] for item in Melon[1:]],\n",
    "              Melon[0][9] : [item[9] for item in Melon[1:]],\n",
    "              Melon[0][10] : [item[10] for item in Melon[1:]],\n",
    "              Melon[0][11] : [item[11] for item in Melon[1:]]}\n",
    "Melon_dict.keys()"
   ]
  },
  {
   "cell_type": "code",
   "execution_count": 36,
   "metadata": {
    "collapsed": true
   },
   "outputs": [],
   "source": [
    "Melon_df = pd.DataFrame(Melon_dict, columns=['ID', 'Cnt', 'Title', 'Artist', 'Album', 'Genre', 'Flac', 'Year', 'Season', 'Like', 'Reply', 'Lyric'])\n",
    "Melon_df.to_csv('bind_data_melon/Melon_df.csv', encoding='ANSI')\n",
    "Melon_df"
   ]
  },
  {
   "cell_type": "markdown",
   "metadata": {},
   "source": [
    "### 가사 전처리 하기"
   ]
  },
  {
   "cell_type": "code",
   "execution_count": 37,
   "metadata": {
    "collapsed": true
   },
   "outputs": [],
   "source": [
    "f = open('bind_data_melon/Melon_df.csv', 'r', encoding='ANSI')\n",
    "Melon = []\n",
    "lyric = []\n",
    "fc = csv.reader(f)\n",
    "for line in fc:\n",
    "    Melon.append(line[1:])\n",
    "    lyric.append(line[-1])\n",
    "f.close()"
   ]
  },
  {
   "cell_type": "code",
   "execution_count": 39,
   "metadata": {
    "collapsed": false
   },
   "outputs": [
    {
     "data": {
      "text/plain": [
       "38225"
      ]
     },
     "execution_count": 39,
     "metadata": {},
     "output_type": "execute_result"
    }
   ],
   "source": [
    "len(Melon)"
   ]
  },
  {
   "cell_type": "code",
   "execution_count": 40,
   "metadata": {
    "collapsed": false
   },
   "outputs": [
    {
     "data": {
      "text/plain": [
       "[['ID',\n",
       "  'Cnt',\n",
       "  'Title',\n",
       "  'Artist',\n",
       "  'Album',\n",
       "  'Genre',\n",
       "  'Flac',\n",
       "  'Year',\n",
       "  'Season',\n",
       "  'Like',\n",
       "  'Reply',\n",
       "  'Lyric'],\n",
       " ['1',\n",
       "  '0',\n",
       "  '더 (PROD. 브라더수)',\n",
       "  '유승우',\n",
       "  'ROMANCE',\n",
       "  'Ballad',\n",
       "  'Flac 16bit',\n",
       "  '2017',\n",
       "  'fall',\n",
       "  '975',\n",
       "  '6',\n",
       "  '더 가까워지지 말자 그냥 그 정도까지만 다치고 싶지 않아 너도 그렇잖아 똑같은 맘이잖아 이쯤 멈추자 더 심각해지지 말자 후회할 일 만들지 말자 애타고 싶지 않아 설렘도 다 싫증 나 지금처럼 혼자가 나쁘진 않아 난 이 얘기의 끝을 이미 알아 지금도 충분히 괜찮잖아 한 번 겪어봤음 알잖아 또 데이는 건 바보 같아 난 더 하고 싶지 않아 오 난 더 욕심내지 말자 잠깐 행복하겠지만 떠오를 때마다 따끔거릴 얘기가 하나 더 생길 뿐이야 그럴 거잖아 난 이 얘기의 끝을 이미 알아 지금도 충분히 괜찮잖아 한 번 겪어봤음 알잖아 또 데이는 건 바보 같아 난 더 하고 싶지 않아 몇 번을 겪어도 익숙하지 않던 마지막 장면은 이제 싫어 난 이미 알면서도 흔들리고 있어 난 자신이 없어 니가 거기 멈춰줘 난 우리란 이름이 아직 겁나 너도 아픈 상처로 남을까 봐 겪어봐서 알잖아 이런 난 참 바보 같지만 더 아프고 싶지 않아']]"
      ]
     },
     "execution_count": 40,
     "metadata": {},
     "output_type": "execute_result"
    }
   ],
   "source": [
    "Melon[:2]"
   ]
  },
  {
   "cell_type": "code",
   "execution_count": 41,
   "metadata": {
    "collapsed": false
   },
   "outputs": [
    {
     "data": {
      "text/plain": [
       "['Lyric',\n",
       " '더 가까워지지 말자 그냥 그 정도까지만 다치고 싶지 않아 너도 그렇잖아 똑같은 맘이잖아 이쯤 멈추자 더 심각해지지 말자 후회할 일 만들지 말자 애타고 싶지 않아 설렘도 다 싫증 나 지금처럼 혼자가 나쁘진 않아 난 이 얘기의 끝을 이미 알아 지금도 충분히 괜찮잖아 한 번 겪어봤음 알잖아 또 데이는 건 바보 같아 난 더 하고 싶지 않아 오 난 더 욕심내지 말자 잠깐 행복하겠지만 떠오를 때마다 따끔거릴 얘기가 하나 더 생길 뿐이야 그럴 거잖아 난 이 얘기의 끝을 이미 알아 지금도 충분히 괜찮잖아 한 번 겪어봤음 알잖아 또 데이는 건 바보 같아 난 더 하고 싶지 않아 몇 번을 겪어도 익숙하지 않던 마지막 장면은 이제 싫어 난 이미 알면서도 흔들리고 있어 난 자신이 없어 니가 거기 멈춰줘 난 우리란 이름이 아직 겁나 너도 아픈 상처로 남을까 봐 겪어봐서 알잖아 이런 난 참 바보 같지만 더 아프고 싶지 않아',\n",
       " '바람이 불어와서 상쾌한 날 기분 좋아 가벼운 걸음걸음 청아한 하늘을 바라본다 눈 감고 어디로든 이대로 떠나고 싶지만 현실은 숨 막혀 답답하게 좁아터진 출근길 일기장에 내 꿈을 그려봤던 적은 언제일까 일상에 지치고 밀려서 점점 꿈꾸는 법조차 잃은 것 같아 괜찮아 너 지금의 너를 나 아주 많이 칭찬해 오 이제까지 충분히 잘해왔어 딴 사람은 너를 몰라도 나는 너를 아주 많이 칭찬해 오늘도 정신없이 숨차게 하루를 보내고 똑같은 날들을 반복하는 난 지금 뭘 하는 걸까 아직 똑같은 날이 얼마나 남은 진 몰라도 모진 말 견디며 지금껏 계속 아둥바둥한 건 아닌 거니까 괜찮아 너 지금의 너를 나 아주 많이 칭찬해 오 이제까지 충분히 잘해왔어 딴 사람은 너를 몰라도 잘 지내다 가끔씩 문득 예고도 없이 힘들고 지쳐 하기 싫을 때 주문처럼 이 노래를 불러줘 괜찮아 너 지금의 너를 나 아주 많이 칭찬해 오 이제까지 충분히 잘해왔어 딴 사람은 너를 몰라도 나는 너를 아주 많이 칭찬해']"
      ]
     },
     "execution_count": 41,
     "metadata": {},
     "output_type": "execute_result"
    }
   ],
   "source": [
    "lyric[:3]"
   ]
  },
  {
   "cell_type": "code",
   "execution_count": 43,
   "metadata": {
    "collapsed": false
   },
   "outputs": [
    {
     "name": "stdout",
     "output_type": "stream",
     "text": [
      "6.685976338386536\n"
     ]
    }
   ],
   "source": [
    "# 형태소 분석\n",
    "import time\n",
    "from konlpy.tag import Twitter\n",
    "\n",
    "t = Twitter()\n",
    "tokens = []\n",
    "\n",
    "process_time = time.time()\n",
    "for text in lyric[1:]:\n",
    "    tokens.append(t.pos(text))\n",
    "print((time.time()-process_time)/60)"
   ]
  },
  {
   "cell_type": "code",
   "execution_count": 44,
   "metadata": {
    "collapsed": false
   },
   "outputs": [],
   "source": [
    "# flat\n",
    "lyric2 = []\n",
    "for token in tokens:\n",
    "    result = []\n",
    "    for A, B in token:\n",
    "        C = A + \"/\" + B\n",
    "        result.append(C)\n",
    "    lyric2.append(result)"
   ]
  },
  {
   "cell_type": "code",
   "execution_count": 45,
   "metadata": {
    "collapsed": true
   },
   "outputs": [],
   "source": [
    "# 품사 필터링\n",
    "def pumsa(doc):\n",
    "    temp = []\n",
    "    \n",
    "    for items in doc:        \n",
    "        words = []\n",
    "        for item in items:\n",
    "            if item.split('/')[1] in ['Noun', 'Verb', 'Adjective']:\n",
    "                words.append(item)\n",
    "        temp.append(words)\n",
    "    \n",
    "    return temp"
   ]
  },
  {
   "cell_type": "code",
   "execution_count": 46,
   "metadata": {
    "collapsed": false
   },
   "outputs": [],
   "source": [
    "lyric3 = pumsa(lyric2)"
   ]
  },
  {
   "cell_type": "code",
   "execution_count": 47,
   "metadata": {
    "collapsed": false
   },
   "outputs": [],
   "source": [
    "# 불용어 필터링\n",
    "f = open('bind_data_melon/stopwords_list_808.txt', 'r', encoding='utf-8')\n",
    "stop_words = []\n",
    "\n",
    "fc = csv.reader(f)\n",
    "for line in fc:\n",
    "    stop_words.append(line)\n",
    "f.close()"
   ]
  },
  {
   "cell_type": "code",
   "execution_count": 48,
   "metadata": {
    "collapsed": false
   },
   "outputs": [
    {
     "data": {
      "text/plain": [
       "808"
      ]
     },
     "execution_count": 48,
     "metadata": {},
     "output_type": "execute_result"
    }
   ],
   "source": [
    "stop_words = stop_words[0]\n",
    "stop_words = stop_words[:-1]\n",
    "len(stop_words)"
   ]
  },
  {
   "cell_type": "code",
   "execution_count": 49,
   "metadata": {
    "collapsed": false
   },
   "outputs": [],
   "source": [
    "def rm_stop(token):\n",
    "    final = []\n",
    "    for words in token:\n",
    "        word_list = []\n",
    "        for word in words:\n",
    "            if word.split(\"/\")[0] not in stop_words:\n",
    "                word_list.append(word)\n",
    "        final.append(word_list)\n",
    "    return final"
   ]
  },
  {
   "cell_type": "code",
   "execution_count": 50,
   "metadata": {
    "collapsed": false
   },
   "outputs": [],
   "source": [
    "lyric4 = rm_stop(lyric3)"
   ]
  },
  {
   "cell_type": "code",
   "execution_count": 51,
   "metadata": {
    "collapsed": false
   },
   "outputs": [
    {
     "data": {
      "text/plain": [
       "38224"
      ]
     },
     "execution_count": 51,
     "metadata": {},
     "output_type": "execute_result"
    }
   ],
   "source": [
    "len(lyric4)"
   ]
  },
  {
   "cell_type": "code",
   "execution_count": 52,
   "metadata": {
    "collapsed": true
   },
   "outputs": [],
   "source": [
    "lyric4_dict = {'Lyric':lyric4}\n",
    "lyric4_df = pd.DataFrame(lyric4_dict)\n",
    "lyric4_df.to_csv('bind_data_melon/lyric4_df.csv', encoding='ANSI')"
   ]
  },
  {
   "cell_type": "code",
   "execution_count": 53,
   "metadata": {
    "collapsed": true
   },
   "outputs": [],
   "source": [
    "# 가사에서 유의미한 단어의 수가 50개 미만인 노래 제거\n",
    "except_index = []\n",
    "for i in range(len(lyric4)):\n",
    "    if len(lyric4[i]) < 50:\n",
    "        except_index.append(str(i))"
   ]
  },
  {
   "cell_type": "code",
   "execution_count": 54,
   "metadata": {
    "collapsed": false,
    "scrolled": true
   },
   "outputs": [
    {
     "data": {
      "text/plain": [
       "4192"
      ]
     },
     "execution_count": 54,
     "metadata": {},
     "output_type": "execute_result"
    }
   ],
   "source": [
    "len(except_index)"
   ]
  },
  {
   "cell_type": "markdown",
   "metadata": {},
   "source": [
    "### 전처리 과정을 반영해서 ID를 새로 부여하고, dataframe으로 만들자."
   ]
  },
  {
   "cell_type": "code",
   "execution_count": 55,
   "metadata": {
    "collapsed": false,
    "scrolled": true
   },
   "outputs": [],
   "source": [
    "id4 = list(Melon_df.ix[:,'ID'])\n",
    "id5 = []\n",
    "for index in id4:\n",
    "    if index not in except_index:\n",
    "        id5.append(index)"
   ]
  },
  {
   "cell_type": "code",
   "execution_count": 56,
   "metadata": {
    "collapsed": false
   },
   "outputs": [],
   "source": [
    "Melon2 = [Melon[0]]\n",
    "for item in Melon[1:]:\n",
    "    if item[0] in id5:\n",
    "        temp = item[:-1]\n",
    "        temp.append(lyric4[int(item[0])-1])\n",
    "        Melon2.append(temp)"
   ]
  },
  {
   "cell_type": "code",
   "execution_count": 57,
   "metadata": {
    "collapsed": false
   },
   "outputs": [
    {
     "data": {
      "text/plain": [
       "34033"
      ]
     },
     "execution_count": 57,
     "metadata": {},
     "output_type": "execute_result"
    }
   ],
   "source": [
    "len(Melon2)"
   ]
  },
  {
   "cell_type": "code",
   "execution_count": 58,
   "metadata": {
    "collapsed": false
   },
   "outputs": [
    {
     "data": {
      "text/plain": [
       "dict_keys(['ID', 'Cnt', 'Title', 'Artist', 'Album', 'Genre', 'Flac', 'Year', 'Season', 'Like', 'Reply', 'Lyric'])"
      ]
     },
     "execution_count": 58,
     "metadata": {},
     "output_type": "execute_result"
    }
   ],
   "source": [
    "Melon2_dict = {'ID' : ['{}'.format(i+1) for i in range(len(id5))],\n",
    "               Melon2[0][1] : [item[1] for item in Melon2[1:]],\n",
    "               Melon2[0][2] : [item[2] for item in Melon2[1:]],\n",
    "               Melon2[0][3] : [item[3] for item in Melon2[1:]],\n",
    "               Melon2[0][4] : [item[4] for item in Melon2[1:]],\n",
    "               Melon2[0][5] : [item[5] for item in Melon2[1:]],\n",
    "               Melon2[0][6] : [item[6] for item in Melon2[1:]],\n",
    "               Melon2[0][7] : [item[7] for item in Melon2[1:]],\n",
    "               Melon2[0][8] : [item[8] for item in Melon2[1:]],\n",
    "               Melon2[0][9] : [item[9] for item in Melon2[1:]],\n",
    "               Melon2[0][10] : [item[10] for item in Melon2[1:]],\n",
    "               Melon2[0][11] : [item[11] for item in Melon2[1:]]}\n",
    "Melon2_dict.keys()"
   ]
  },
  {
   "cell_type": "code",
   "execution_count": 59,
   "metadata": {
    "collapsed": true
   },
   "outputs": [],
   "source": [
    "Melon2_df = pd.DataFrame(Melon2_dict, columns=['ID', 'Cnt', 'Title', 'Artist', 'Album', 'Genre', 'Flac', 'Year', 'Season', 'Like', 'Reply', 'Lyric'])\n",
    "Melon2_df.to_csv('bind_data_melon/Melon2_df.csv', encoding='ANSI')\n",
    "Melon2_df"
   ]
  },
  {
   "cell_type": "code",
   "execution_count": 60,
   "metadata": {
    "collapsed": false,
    "scrolled": true
   },
   "outputs": [
    {
     "data": {
      "text/plain": [
       "0        False\n",
       "1        False\n",
       "2        False\n",
       "3        False\n",
       "4        False\n",
       "5        False\n",
       "6        False\n",
       "7        False\n",
       "8        False\n",
       "9        False\n",
       "10       False\n",
       "11       False\n",
       "12       False\n",
       "13       False\n",
       "14       False\n",
       "15       False\n",
       "16       False\n",
       "17       False\n",
       "18       False\n",
       "19       False\n",
       "20       False\n",
       "21       False\n",
       "22       False\n",
       "23       False\n",
       "24       False\n",
       "25       False\n",
       "26       False\n",
       "27       False\n",
       "28       False\n",
       "29       False\n",
       "         ...  \n",
       "34002    False\n",
       "34003    False\n",
       "34004    False\n",
       "34005    False\n",
       "34006    False\n",
       "34007    False\n",
       "34008    False\n",
       "34009    False\n",
       "34010    False\n",
       "34011    False\n",
       "34012    False\n",
       "34013    False\n",
       "34014    False\n",
       "34015    False\n",
       "34016    False\n",
       "34017    False\n",
       "34018    False\n",
       "34019    False\n",
       "34020    False\n",
       "34021    False\n",
       "34022    False\n",
       "34023    False\n",
       "34024    False\n",
       "34025    False\n",
       "34026    False\n",
       "34027    False\n",
       "34028    False\n",
       "34029    False\n",
       "34030    False\n",
       "34031    False\n",
       "Name: Cnt, dtype: bool"
      ]
     },
     "execution_count": 60,
     "metadata": {},
     "output_type": "execute_result"
    }
   ],
   "source": [
    "# Cnt가 0이 아닌 노래들의 ID 찾아놓기\n",
    "Target_Index = Melon2_df.ix[:,'Cnt'] != '0'\n",
    "Target_Index"
   ]
  },
  {
   "cell_type": "code",
   "execution_count": 61,
   "metadata": {
    "collapsed": false
   },
   "outputs": [
    {
     "data": {
      "text/plain": [
       "['455',\n",
       " '469',\n",
       " '487',\n",
       " '519',\n",
       " '572',\n",
       " '581',\n",
       " '641',\n",
       " '644',\n",
       " '669',\n",
       " '673',\n",
       " '694',\n",
       " '697',\n",
       " '698',\n",
       " '728',\n",
       " '749',\n",
       " '754',\n",
       " '797',\n",
       " '951',\n",
       " '969',\n",
       " '976',\n",
       " '995',\n",
       " '998',\n",
       " '1002',\n",
       " '1018',\n",
       " '1051',\n",
       " '1057',\n",
       " '1065',\n",
       " '1076',\n",
       " '1168',\n",
       " '1186',\n",
       " '1192',\n",
       " '1325',\n",
       " '1449',\n",
       " '1503',\n",
       " '1605',\n",
       " '1628',\n",
       " '1745',\n",
       " '1876',\n",
       " '1881',\n",
       " '1896',\n",
       " '1961',\n",
       " '2004',\n",
       " '2062',\n",
       " '2081',\n",
       " '2117',\n",
       " '2199',\n",
       " '2203',\n",
       " '2230',\n",
       " '2253',\n",
       " '2359',\n",
       " '2409',\n",
       " '2442',\n",
       " '2452',\n",
       " '2486',\n",
       " '2492',\n",
       " '2494',\n",
       " '2499',\n",
       " '2549',\n",
       " '2576',\n",
       " '2613',\n",
       " '2636',\n",
       " '2640',\n",
       " '2647',\n",
       " '6217',\n",
       " '7101',\n",
       " '9991',\n",
       " '10756',\n",
       " '10793',\n",
       " '10801',\n",
       " '10814',\n",
       " '10818',\n",
       " '10825',\n",
       " '10849',\n",
       " '10851',\n",
       " '10864',\n",
       " '10926',\n",
       " '10933',\n",
       " '10948',\n",
       " '10967',\n",
       " '11050',\n",
       " '11066',\n",
       " '11110',\n",
       " '11155',\n",
       " '11204',\n",
       " '11495',\n",
       " '13493',\n",
       " '16253',\n",
       " '16287',\n",
       " '16298',\n",
       " '16321',\n",
       " '16387',\n",
       " '16388',\n",
       " '16462',\n",
       " '16485',\n",
       " '16534',\n",
       " '16545',\n",
       " '16612',\n",
       " '16622',\n",
       " '16788',\n",
       " '17086',\n",
       " '17295',\n",
       " '17365',\n",
       " '17373',\n",
       " '17506',\n",
       " '17633',\n",
       " '17656',\n",
       " '17685',\n",
       " '25144',\n",
       " '25545',\n",
       " '25553',\n",
       " '25592',\n",
       " '25610',\n",
       " '25880',\n",
       " '26345',\n",
       " '26847',\n",
       " '27370',\n",
       " '28043',\n",
       " '28201',\n",
       " '28412',\n",
       " '28775',\n",
       " '28968',\n",
       " '29600',\n",
       " '30299',\n",
       " '32180']"
      ]
     },
     "execution_count": 61,
     "metadata": {},
     "output_type": "execute_result"
    }
   ],
   "source": [
    "Target_ID = list(Melon2_df.ix[Target_Index,'ID'])\n",
    "Train_ID = list(Melon2_df.ix[-Target_Index,'ID'])\n",
    "Target_ID"
   ]
  },
  {
   "cell_type": "code",
   "execution_count": 62,
   "metadata": {
    "collapsed": false
   },
   "outputs": [
    {
     "data": {
      "text/plain": [
       "124"
      ]
     },
     "execution_count": 62,
     "metadata": {},
     "output_type": "execute_result"
    }
   ],
   "source": [
    "len(Target_ID)"
   ]
  },
  {
   "cell_type": "code",
   "execution_count": 63,
   "metadata": {
    "collapsed": false,
    "scrolled": true
   },
   "outputs": [
    {
     "data": {
      "text/plain": [
       "33908"
      ]
     },
     "execution_count": 63,
     "metadata": {},
     "output_type": "execute_result"
    }
   ],
   "source": [
    "len(Train_ID)"
   ]
  },
  {
   "cell_type": "markdown",
   "metadata": {},
   "source": [
    "### word2vec 모델링"
   ]
  },
  {
   "cell_type": "code",
   "execution_count": 64,
   "metadata": {
    "collapsed": false
   },
   "outputs": [],
   "source": [
    "lyric5 = list(Melon2_df.ix[:,'Lyric'])"
   ]
  },
  {
   "cell_type": "code",
   "execution_count": 65,
   "metadata": {
    "collapsed": false
   },
   "outputs": [
    {
     "data": {
      "text/plain": [
       "34032"
      ]
     },
     "execution_count": 65,
     "metadata": {},
     "output_type": "execute_result"
    }
   ],
   "source": [
    "len(lyric5)"
   ]
  },
  {
   "cell_type": "code",
   "execution_count": 66,
   "metadata": {
    "collapsed": true
   },
   "outputs": [],
   "source": [
    "id6 = list(Melon2_df.ix[:,'ID'])"
   ]
  },
  {
   "cell_type": "code",
   "execution_count": 67,
   "metadata": {
    "collapsed": false
   },
   "outputs": [
    {
     "data": {
      "text/plain": [
       "34032"
      ]
     },
     "execution_count": 67,
     "metadata": {},
     "output_type": "execute_result"
    }
   ],
   "source": [
    "len(id6)"
   ]
  },
  {
   "cell_type": "code",
   "execution_count": null,
   "metadata": {
    "collapsed": false,
    "scrolled": true
   },
   "outputs": [],
   "source": [
    "from gensim.models import Word2Vec\n",
    "model = Word2Vec(lyric5, size=50, window=10, min_count=5, workers=4)"
   ]
  },
  {
   "cell_type": "code",
   "execution_count": null,
   "metadata": {
    "collapsed": false
   },
   "outputs": [],
   "source": [
    "model.save('bind_data_melon/Word2Vec')"
   ]
  },
  {
   "cell_type": "code",
   "execution_count": null,
   "metadata": {
    "collapsed": true
   },
   "outputs": [],
   "source": [
    "from gensim import corpora\n",
    "dic_ko = corpora.Dictionary(lyric5)\n",
    "dic_ko.save('bind_data_melon/Corpus_temp.dict')"
   ]
  },
  {
   "cell_type": "code",
   "execution_count": 68,
   "metadata": {
    "collapsed": false
   },
   "outputs": [
    {
     "name": "stderr",
     "output_type": "stream",
     "text": [
      "C:\\Users\\user\\Anaconda3\\lib\\site-packages\\gensim\\utils.py:860: UserWarning: detected Windows; aliasing chunkize to chunkize_serial\n",
      "  warnings.warn(\"detected Windows; aliasing chunkize to chunkize_serial\")\n"
     ]
    }
   ],
   "source": [
    "'''\n",
    "from gensim.models import Word2Vec\n",
    "from gensim import corpora\n",
    "model = Word2Vec.load('bind_data_melon/Word2Vec')\n",
    "corpus = corpora.Dictionary.load('bind_data_melon/Corpus_temp.dict')\n",
    "'''"
   ]
  },
  {
   "cell_type": "markdown",
   "metadata": {},
   "source": [
    "### word2vec 모델을 이용한 가사 유사도에 따른 노래별 후보 리스트 추출"
   ]
  },
  {
   "cell_type": "code",
   "execution_count": null,
   "metadata": {
    "collapsed": true
   },
   "outputs": [],
   "source": [
    "'''\n",
    "# Cnt가 10보다 큰 노래들의 ID 찾아놓기\n",
    "Target2_Index = Melon2_df.ix[:,'Cnt'] != '0'\n",
    "Target2_Index\n",
    "\n",
    "Target2_ID = list(Melon2_df.ix[Target2_Index,'ID'])\n",
    "Train2_ID = list(Melon2_df.ix[-Target2_Index,'ID'])\n",
    "Target2_ID\n",
    "\n",
    "len(Target2_ID)\n",
    "\n",
    "len(Train2_ID)\n",
    "'''"
   ]
  },
  {
   "cell_type": "code",
   "execution_count": null,
   "metadata": {
    "collapsed": true
   },
   "outputs": [],
   "source": [
    "# id와 유사도에 대한 전체 결과 만들고"
   ]
  },
  {
   "cell_type": "code",
   "execution_count": 69,
   "metadata": {
    "collapsed": false
   },
   "outputs": [
    {
     "data": {
      "text/plain": [
       "124"
      ]
     },
     "execution_count": 69,
     "metadata": {},
     "output_type": "execute_result"
    }
   ],
   "source": [
    "len(Target_ID)"
   ]
  },
  {
   "cell_type": "code",
   "execution_count": 74,
   "metadata": {
    "collapsed": true
   },
   "outputs": [],
   "source": [
    "temp3 = []\n",
    "for index in Target_ID:\n",
    "    try:\n",
    "        model.most_similar(lyric5[int(index)-1])\n",
    "        temp3.append(index)\n",
    "    except:\n",
    "        continue"
   ]
  },
  {
   "cell_type": "code",
   "execution_count": 75,
   "metadata": {
    "collapsed": false
   },
   "outputs": [
    {
     "data": {
      "text/plain": [
       "80"
      ]
     },
     "execution_count": 75,
     "metadata": {},
     "output_type": "execute_result"
    }
   ],
   "source": [
    "len(temp3)"
   ]
  },
  {
   "cell_type": "code",
   "execution_count": 80,
   "metadata": {
    "collapsed": true
   },
   "outputs": [],
   "source": [
    "# toy 실험\n",
    "process_time = time.time()\n",
    "candidate_id = []\n",
    "candidate_similarity = []"
   ]
  },
  {
   "cell_type": "code",
   "execution_count": 81,
   "metadata": {
    "collapsed": false
   },
   "outputs": [
    {
     "data": {
      "text/plain": [
       "80"
      ]
     },
     "execution_count": 81,
     "metadata": {},
     "output_type": "execute_result"
    }
   ],
   "source": [
    "len(temp3)"
   ]
  },
  {
   "cell_type": "code",
   "execution_count": null,
   "metadata": {
    "collapsed": true
   },
   "outputs": [],
   "source": [
    "i = 0"
   ]
  },
  {
   "cell_type": "code",
   "execution_count": 103,
   "metadata": {
    "collapsed": false
   },
   "outputs": [],
   "source": [
    "for i in range(70, 80):\n",
    "    index = temp3[i]\n",
    "    temp = []\n",
    "    temp2 = []\n",
    "\n",
    "    for i in range(len(lyric5)):\n",
    "        try:\n",
    "            model.most_similar(lyric5[i])\n",
    "        except:\n",
    "            continue\n",
    "        temp2.append(model.n_similarity(lyric5[int(index)-1], lyric5[i]))\n",
    "        temp.append(id6[i])\n",
    "\n",
    "    candidate_id.append(temp)\n",
    "    candidate_similarity.append(temp2)"
   ]
  },
  {
   "cell_type": "code",
   "execution_count": 104,
   "metadata": {
    "collapsed": true
   },
   "outputs": [],
   "source": [
    "# 혹시 모르니 저장해두기\n",
    "emergency_id = candidate_id[:]\n",
    "emergency_similarity = candidate_similarity[:]"
   ]
  },
  {
   "cell_type": "code",
   "execution_count": 113,
   "metadata": {
    "collapsed": false,
    "scrolled": true
   },
   "outputs": [
    {
     "data": {
      "text/plain": [
       "80"
      ]
     },
     "execution_count": 113,
     "metadata": {},
     "output_type": "execute_result"
    }
   ],
   "source": [
    "len(candidate_id)"
   ]
  },
  {
   "cell_type": "code",
   "execution_count": 138,
   "metadata": {
    "collapsed": true
   },
   "outputs": [],
   "source": [
    "i = 0\n",
    "temp_dict = {'ID' : candidate_id[i], 'Similarity' : candidate_similarity[i]}\n",
    "temp_df = pd.DataFrame(temp_dict)"
   ]
  },
  {
   "cell_type": "code",
   "execution_count": 139,
   "metadata": {
    "collapsed": false
   },
   "outputs": [
    {
     "data": {
      "text/html": [
       "<div>\n",
       "<table border=\"1\" class=\"dataframe\">\n",
       "  <thead>\n",
       "    <tr style=\"text-align: right;\">\n",
       "      <th></th>\n",
       "      <th>ID</th>\n",
       "      <th>Similarity</th>\n",
       "    </tr>\n",
       "  </thead>\n",
       "  <tbody>\n",
       "    <tr>\n",
       "      <th>0</th>\n",
       "      <td>2</td>\n",
       "      <td>-0.389300</td>\n",
       "    </tr>\n",
       "    <tr>\n",
       "      <th>1</th>\n",
       "      <td>4</td>\n",
       "      <td>-0.369015</td>\n",
       "    </tr>\n",
       "    <tr>\n",
       "      <th>2</th>\n",
       "      <td>6</td>\n",
       "      <td>-0.349163</td>\n",
       "    </tr>\n",
       "    <tr>\n",
       "      <th>3</th>\n",
       "      <td>9</td>\n",
       "      <td>-0.345835</td>\n",
       "    </tr>\n",
       "    <tr>\n",
       "      <th>4</th>\n",
       "      <td>10</td>\n",
       "      <td>-0.330210</td>\n",
       "    </tr>\n",
       "    <tr>\n",
       "      <th>5</th>\n",
       "      <td>13</td>\n",
       "      <td>-0.328908</td>\n",
       "    </tr>\n",
       "    <tr>\n",
       "      <th>6</th>\n",
       "      <td>14</td>\n",
       "      <td>-0.327100</td>\n",
       "    </tr>\n",
       "    <tr>\n",
       "      <th>7</th>\n",
       "      <td>15</td>\n",
       "      <td>-0.311571</td>\n",
       "    </tr>\n",
       "    <tr>\n",
       "      <th>8</th>\n",
       "      <td>17</td>\n",
       "      <td>-0.309214</td>\n",
       "    </tr>\n",
       "    <tr>\n",
       "      <th>9</th>\n",
       "      <td>18</td>\n",
       "      <td>-0.301084</td>\n",
       "    </tr>\n",
       "    <tr>\n",
       "      <th>10</th>\n",
       "      <td>19</td>\n",
       "      <td>-0.299515</td>\n",
       "    </tr>\n",
       "    <tr>\n",
       "      <th>11</th>\n",
       "      <td>21</td>\n",
       "      <td>-0.284519</td>\n",
       "    </tr>\n",
       "    <tr>\n",
       "      <th>12</th>\n",
       "      <td>22</td>\n",
       "      <td>-0.279602</td>\n",
       "    </tr>\n",
       "    <tr>\n",
       "      <th>13</th>\n",
       "      <td>24</td>\n",
       "      <td>-0.249688</td>\n",
       "    </tr>\n",
       "    <tr>\n",
       "      <th>14</th>\n",
       "      <td>25</td>\n",
       "      <td>-0.246929</td>\n",
       "    </tr>\n",
       "    <tr>\n",
       "      <th>15</th>\n",
       "      <td>26</td>\n",
       "      <td>-0.236785</td>\n",
       "    </tr>\n",
       "    <tr>\n",
       "      <th>16</th>\n",
       "      <td>27</td>\n",
       "      <td>-0.218729</td>\n",
       "    </tr>\n",
       "    <tr>\n",
       "      <th>17</th>\n",
       "      <td>28</td>\n",
       "      <td>-0.213645</td>\n",
       "    </tr>\n",
       "    <tr>\n",
       "      <th>18</th>\n",
       "      <td>31</td>\n",
       "      <td>-0.212244</td>\n",
       "    </tr>\n",
       "    <tr>\n",
       "      <th>19</th>\n",
       "      <td>33</td>\n",
       "      <td>-0.210270</td>\n",
       "    </tr>\n",
       "    <tr>\n",
       "      <th>20</th>\n",
       "      <td>34</td>\n",
       "      <td>-0.207919</td>\n",
       "    </tr>\n",
       "    <tr>\n",
       "      <th>21</th>\n",
       "      <td>36</td>\n",
       "      <td>-0.202381</td>\n",
       "    </tr>\n",
       "    <tr>\n",
       "      <th>22</th>\n",
       "      <td>37</td>\n",
       "      <td>-0.198999</td>\n",
       "    </tr>\n",
       "    <tr>\n",
       "      <th>23</th>\n",
       "      <td>38</td>\n",
       "      <td>-0.198999</td>\n",
       "    </tr>\n",
       "    <tr>\n",
       "      <th>24</th>\n",
       "      <td>40</td>\n",
       "      <td>-0.197572</td>\n",
       "    </tr>\n",
       "    <tr>\n",
       "      <th>25</th>\n",
       "      <td>41</td>\n",
       "      <td>-0.195604</td>\n",
       "    </tr>\n",
       "    <tr>\n",
       "      <th>26</th>\n",
       "      <td>42</td>\n",
       "      <td>-0.195212</td>\n",
       "    </tr>\n",
       "    <tr>\n",
       "      <th>27</th>\n",
       "      <td>43</td>\n",
       "      <td>-0.194558</td>\n",
       "    </tr>\n",
       "    <tr>\n",
       "      <th>28</th>\n",
       "      <td>45</td>\n",
       "      <td>-0.192520</td>\n",
       "    </tr>\n",
       "    <tr>\n",
       "      <th>29</th>\n",
       "      <td>46</td>\n",
       "      <td>-0.186070</td>\n",
       "    </tr>\n",
       "    <tr>\n",
       "      <th>...</th>\n",
       "      <td>...</td>\n",
       "      <td>...</td>\n",
       "    </tr>\n",
       "    <tr>\n",
       "      <th>18086</th>\n",
       "      <td>33979</td>\n",
       "      <td>0.723302</td>\n",
       "    </tr>\n",
       "    <tr>\n",
       "      <th>18087</th>\n",
       "      <td>33981</td>\n",
       "      <td>0.727036</td>\n",
       "    </tr>\n",
       "    <tr>\n",
       "      <th>18088</th>\n",
       "      <td>33982</td>\n",
       "      <td>0.727490</td>\n",
       "    </tr>\n",
       "    <tr>\n",
       "      <th>18089</th>\n",
       "      <td>33983</td>\n",
       "      <td>0.727710</td>\n",
       "    </tr>\n",
       "    <tr>\n",
       "      <th>18090</th>\n",
       "      <td>33984</td>\n",
       "      <td>0.728037</td>\n",
       "    </tr>\n",
       "    <tr>\n",
       "      <th>18091</th>\n",
       "      <td>33985</td>\n",
       "      <td>0.728357</td>\n",
       "    </tr>\n",
       "    <tr>\n",
       "      <th>18092</th>\n",
       "      <td>33986</td>\n",
       "      <td>0.729026</td>\n",
       "    </tr>\n",
       "    <tr>\n",
       "      <th>18093</th>\n",
       "      <td>33987</td>\n",
       "      <td>0.730218</td>\n",
       "    </tr>\n",
       "    <tr>\n",
       "      <th>18094</th>\n",
       "      <td>33991</td>\n",
       "      <td>0.730996</td>\n",
       "    </tr>\n",
       "    <tr>\n",
       "      <th>18095</th>\n",
       "      <td>33993</td>\n",
       "      <td>0.732074</td>\n",
       "    </tr>\n",
       "    <tr>\n",
       "      <th>18096</th>\n",
       "      <td>33997</td>\n",
       "      <td>0.733404</td>\n",
       "    </tr>\n",
       "    <tr>\n",
       "      <th>18097</th>\n",
       "      <td>34000</td>\n",
       "      <td>0.733404</td>\n",
       "    </tr>\n",
       "    <tr>\n",
       "      <th>18098</th>\n",
       "      <td>34001</td>\n",
       "      <td>0.735489</td>\n",
       "    </tr>\n",
       "    <tr>\n",
       "      <th>18099</th>\n",
       "      <td>34002</td>\n",
       "      <td>0.735984</td>\n",
       "    </tr>\n",
       "    <tr>\n",
       "      <th>18100</th>\n",
       "      <td>34005</td>\n",
       "      <td>0.738885</td>\n",
       "    </tr>\n",
       "    <tr>\n",
       "      <th>18101</th>\n",
       "      <td>34008</td>\n",
       "      <td>0.739705</td>\n",
       "    </tr>\n",
       "    <tr>\n",
       "      <th>18102</th>\n",
       "      <td>34010</td>\n",
       "      <td>0.739839</td>\n",
       "    </tr>\n",
       "    <tr>\n",
       "      <th>18103</th>\n",
       "      <td>34014</td>\n",
       "      <td>0.741984</td>\n",
       "    </tr>\n",
       "    <tr>\n",
       "      <th>18104</th>\n",
       "      <td>34015</td>\n",
       "      <td>0.744212</td>\n",
       "    </tr>\n",
       "    <tr>\n",
       "      <th>18105</th>\n",
       "      <td>34018</td>\n",
       "      <td>0.744314</td>\n",
       "    </tr>\n",
       "    <tr>\n",
       "      <th>18106</th>\n",
       "      <td>34019</td>\n",
       "      <td>0.745102</td>\n",
       "    </tr>\n",
       "    <tr>\n",
       "      <th>18107</th>\n",
       "      <td>34021</td>\n",
       "      <td>0.749691</td>\n",
       "    </tr>\n",
       "    <tr>\n",
       "      <th>18108</th>\n",
       "      <td>34022</td>\n",
       "      <td>0.755811</td>\n",
       "    </tr>\n",
       "    <tr>\n",
       "      <th>18109</th>\n",
       "      <td>34024</td>\n",
       "      <td>0.756216</td>\n",
       "    </tr>\n",
       "    <tr>\n",
       "      <th>18110</th>\n",
       "      <td>34025</td>\n",
       "      <td>0.758955</td>\n",
       "    </tr>\n",
       "    <tr>\n",
       "      <th>18111</th>\n",
       "      <td>34026</td>\n",
       "      <td>0.770700</td>\n",
       "    </tr>\n",
       "    <tr>\n",
       "      <th>18112</th>\n",
       "      <td>34027</td>\n",
       "      <td>0.772134</td>\n",
       "    </tr>\n",
       "    <tr>\n",
       "      <th>18113</th>\n",
       "      <td>34028</td>\n",
       "      <td>0.779665</td>\n",
       "    </tr>\n",
       "    <tr>\n",
       "      <th>18114</th>\n",
       "      <td>34030</td>\n",
       "      <td>0.847020</td>\n",
       "    </tr>\n",
       "    <tr>\n",
       "      <th>18115</th>\n",
       "      <td>34032</td>\n",
       "      <td>1.000000</td>\n",
       "    </tr>\n",
       "  </tbody>\n",
       "</table>\n",
       "<p>18116 rows × 2 columns</p>\n",
       "</div>"
      ],
      "text/plain": [
       "          ID  Similarity\n",
       "0          2   -0.389300\n",
       "1          4   -0.369015\n",
       "2          6   -0.349163\n",
       "3          9   -0.345835\n",
       "4         10   -0.330210\n",
       "5         13   -0.328908\n",
       "6         14   -0.327100\n",
       "7         15   -0.311571\n",
       "8         17   -0.309214\n",
       "9         18   -0.301084\n",
       "10        19   -0.299515\n",
       "11        21   -0.284519\n",
       "12        22   -0.279602\n",
       "13        24   -0.249688\n",
       "14        25   -0.246929\n",
       "15        26   -0.236785\n",
       "16        27   -0.218729\n",
       "17        28   -0.213645\n",
       "18        31   -0.212244\n",
       "19        33   -0.210270\n",
       "20        34   -0.207919\n",
       "21        36   -0.202381\n",
       "22        37   -0.198999\n",
       "23        38   -0.198999\n",
       "24        40   -0.197572\n",
       "25        41   -0.195604\n",
       "26        42   -0.195212\n",
       "27        43   -0.194558\n",
       "28        45   -0.192520\n",
       "29        46   -0.186070\n",
       "...      ...         ...\n",
       "18086  33979    0.723302\n",
       "18087  33981    0.727036\n",
       "18088  33982    0.727490\n",
       "18089  33983    0.727710\n",
       "18090  33984    0.728037\n",
       "18091  33985    0.728357\n",
       "18092  33986    0.729026\n",
       "18093  33987    0.730218\n",
       "18094  33991    0.730996\n",
       "18095  33993    0.732074\n",
       "18096  33997    0.733404\n",
       "18097  34000    0.733404\n",
       "18098  34001    0.735489\n",
       "18099  34002    0.735984\n",
       "18100  34005    0.738885\n",
       "18101  34008    0.739705\n",
       "18102  34010    0.739839\n",
       "18103  34014    0.741984\n",
       "18104  34015    0.744212\n",
       "18105  34018    0.744314\n",
       "18106  34019    0.745102\n",
       "18107  34021    0.749691\n",
       "18108  34022    0.755811\n",
       "18109  34024    0.756216\n",
       "18110  34025    0.758955\n",
       "18111  34026    0.770700\n",
       "18112  34027    0.772134\n",
       "18113  34028    0.779665\n",
       "18114  34030    0.847020\n",
       "18115  34032    1.000000\n",
       "\n",
       "[18116 rows x 2 columns]"
      ]
     },
     "execution_count": 139,
     "metadata": {},
     "output_type": "execute_result"
    }
   ],
   "source": [
    "temp_df"
   ]
  },
  {
   "cell_type": "code",
   "execution_count": 151,
   "metadata": {
    "collapsed": false,
    "scrolled": true
   },
   "outputs": [
    {
     "data": {
      "text/plain": [
       "['519',\n",
       " '581',\n",
       " '641',\n",
       " '644',\n",
       " '669',\n",
       " '673',\n",
       " '694',\n",
       " '698',\n",
       " '728',\n",
       " '749',\n",
       " '754',\n",
       " '951',\n",
       " '976',\n",
       " '995',\n",
       " '1002',\n",
       " '1051',\n",
       " '1168',\n",
       " '1325',\n",
       " '1503',\n",
       " '1605',\n",
       " '1628',\n",
       " '1876',\n",
       " '1896',\n",
       " '1961',\n",
       " '2004',\n",
       " '2062',\n",
       " '2081',\n",
       " '2199',\n",
       " '2203',\n",
       " '2230',\n",
       " '2359',\n",
       " '2442',\n",
       " '2492',\n",
       " '2499',\n",
       " '2549',\n",
       " '2576',\n",
       " '2613',\n",
       " '2636',\n",
       " '2640',\n",
       " '2647',\n",
       " '7101',\n",
       " '10756',\n",
       " '10801',\n",
       " '10814',\n",
       " '10818',\n",
       " '10825',\n",
       " '10849',\n",
       " '10851',\n",
       " '10864',\n",
       " '10926',\n",
       " '10933',\n",
       " '10948',\n",
       " '11050',\n",
       " '11110',\n",
       " '11204',\n",
       " '11495',\n",
       " '16287',\n",
       " '16321',\n",
       " '16387',\n",
       " '16485',\n",
       " '16534',\n",
       " '16612',\n",
       " '16622',\n",
       " '17086',\n",
       " '17295',\n",
       " '17373',\n",
       " '17506',\n",
       " '17633',\n",
       " '17656',\n",
       " '17685',\n",
       " '25144',\n",
       " '25592',\n",
       " '25610',\n",
       " '26345',\n",
       " '26847',\n",
       " '28043',\n",
       " '28201',\n",
       " '28775',\n",
       " '28968',\n",
       " '32180']"
      ]
     },
     "execution_count": 151,
     "metadata": {},
     "output_type": "execute_result"
    }
   ],
   "source": [
    "temp3"
   ]
  },
  {
   "cell_type": "code",
   "execution_count": 152,
   "metadata": {
    "collapsed": false
   },
   "outputs": [],
   "source": [
    "for i in range(len(temp3)):\n",
    "    temp_dict = {'ID' : candidate_id[i],\n",
    "                 'Similarity' : candidate_similarity[i]}\n",
    "    temp_df = pd.DataFrame(temp_dict)\n",
    "    temp_df.to_csv('bind_data_melon/list_up/{}.csv'.format(temp3[i]), encoding='ANSI')"
   ]
  },
  {
   "cell_type": "code",
   "execution_count": null,
   "metadata": {
    "collapsed": true
   },
   "outputs": [],
   "source": [
    "# cosine_similarity = numpy.dot(model['spain'], model['france'])/(numpy.linalg.norm(model['spain'])* numpy.linalg.norm(model['france']))"
   ]
  },
  {
   "cell_type": "code",
   "execution_count": null,
   "metadata": {
    "collapsed": false
   },
   "outputs": [],
   "source": [
    "len(model.wv.index2word)"
   ]
  },
  {
   "cell_type": "code",
   "execution_count": 153,
   "metadata": {
    "collapsed": false,
    "scrolled": true
   },
   "outputs": [
    {
     "data": {
      "text/plain": [
       "['사랑/Noun',\n",
       " '말/Noun',\n",
       " '더/Noun',\n",
       " '맘/Noun',\n",
       " '좋/Adjective',\n",
       " '사람/Noun',\n",
       " '눈/Noun',\n",
       " '마음/Noun',\n",
       " '오늘/Noun',\n",
       " '있어/Adjective',\n",
       " '없는/Adjective',\n",
       " '못/Noun',\n",
       " '해/Noun',\n",
       " '없어/Adjective',\n",
       " '속/Noun',\n",
       " '너무/Noun',\n",
       " '밤/Noun',\n",
       " '이제/Noun',\n",
       " '눈물/Noun',\n",
       " '지금/Noun',\n",
       " '않아/Verb',\n",
       " '가슴/Noun',\n",
       " '사랑해/Verb',\n",
       " '손/Noun',\n",
       " '있는/Adjective',\n",
       " '싶어/Verb',\n",
       " '세상/Noun',\n",
       " '꿈/Noun',\n",
       " '아직/Noun',\n",
       " '젠/Noun',\n",
       " '하루/Noun',\n",
       " '생각/Noun',\n",
       " '같아/Adjective',\n",
       " '모습/Noun',\n",
       " '잘/Verb',\n",
       " '곳/Noun',\n",
       " '기억/Noun',\n",
       " '매일/Noun',\n",
       " '곁/Noun',\n",
       " '길/Noun',\n",
       " '정말/Noun',\n",
       " '순간/Noun',\n",
       " '몰라/Verb',\n",
       " '두/Noun',\n",
       " '버린/Verb',\n",
       " '앞/Noun',\n",
       " '바람/Noun',\n",
       " '끝/Noun',\n",
       " '나도/Verb',\n",
       " '모르/Verb',\n",
       " '추억/Noun',\n",
       " '괜찮/Adjective',\n",
       " '하늘/Noun',\n",
       " '살/Noun',\n",
       " '노래/Noun',\n",
       " '사랑한/Verb',\n",
       " '보여/Verb',\n",
       " '번/Noun',\n",
       " '뒤/Noun',\n",
       " '볼/Noun',\n",
       " '말해/Verb',\n",
       " '왔/Verb',\n",
       " '여자/Noun',\n",
       " '바보/Noun',\n",
       " '아파/Adjective',\n",
       " '댈/Verb',\n",
       " '싶은/Verb',\n",
       " '이별/Noun',\n",
       " '한번/Noun',\n",
       " '위/Noun',\n",
       " '거리/Noun',\n",
       " '남자/Noun',\n",
       " '될/Verb',\n",
       " '말/Verb',\n",
       " '서로/Noun',\n",
       " '처음/Noun',\n",
       " '들어/Verb',\n",
       " '친구/Noun',\n",
       " '항상/Noun',\n",
       " '숨/Noun',\n",
       " '소리/Noun',\n",
       " '안아/Verb',\n",
       " '미소/Noun',\n",
       " '무/Noun',\n",
       " '척/Noun',\n",
       " '가는/Verb',\n",
       " '줘/Verb',\n",
       " '얼굴/Noun',\n",
       " '기분/Noun',\n",
       " '나와/Verb',\n",
       " '애/Noun',\n",
       " '위해/Noun',\n",
       " '갈/Verb',\n",
       " '불러/Verb',\n",
       " '별/Noun',\n",
       " '내일/Noun',\n",
       " '계속/Noun',\n",
       " '집/Noun',\n",
       " '멀리/Noun',\n",
       " '머리/Noun',\n",
       " '아프/Adjective',\n",
       " '그녀/Noun',\n",
       " '본/Verb',\n",
       " '울/Noun',\n",
       " '가끔/Noun',\n",
       " '살/Verb',\n",
       " '이름/Noun',\n",
       " '때문/Noun',\n",
       " '온/Noun',\n",
       " '사랑했/Verb',\n",
       " '빛/Noun',\n",
       " '옆/Noun',\n",
       " '눈빛/Noun',\n",
       " '잠/Noun',\n",
       " '나나/Noun',\n",
       " '사이/Noun',\n",
       " '비/Noun',\n",
       " '그게/Noun',\n",
       " '몸/Noun',\n",
       " '돈/Noun',\n",
       " '상처/Noun',\n",
       " '작은/Adjective',\n",
       " '잡아/Verb',\n",
       " '놈/Noun',\n",
       " '마지막/Noun',\n",
       " '목소리/Noun',\n",
       " '내겐/Noun',\n",
       " '서/Verb',\n",
       " '입술/Noun',\n",
       " '심장/Noun',\n",
       " '아픈/Adjective',\n",
       " '떠/Verb',\n",
       " '아침/Noun',\n",
       " '기다려/Verb',\n",
       " '삶/Noun',\n",
       " '느낌/Noun',\n",
       " '위로/Noun',\n",
       " '힘/Noun',\n",
       " '향기/Noun',\n",
       " '영원히/Adjective',\n",
       " '바/Noun',\n",
       " '그리워/Adjective',\n",
       " '걸어/Verb',\n",
       " '그대로/Noun',\n",
       " '얘기/Noun',\n",
       " '버리/Verb',\n",
       " '떠나/Verb',\n",
       " '잊지/Verb',\n",
       " '였/Verb',\n",
       " '싫어/Adjective',\n",
       " '인생/Noun',\n",
       " '자리/Noun',\n",
       " '입/Noun',\n",
       " '이유/Noun',\n",
       " '멈춰/Verb',\n",
       " '술/Noun',\n",
       " '봤/Verb',\n",
       " '미안해/Adjective',\n",
       " '버렸/Verb',\n",
       " '돌아와/Verb',\n",
       " '잡고/Noun',\n",
       " '걱정/Noun',\n",
       " '꽃/Noun',\n",
       " '걸음/Noun',\n",
       " '품/Noun',\n",
       " '물/Noun',\n",
       " '힘들/Adjective',\n",
       " '없지/Adjective',\n",
       " '버려/Verb',\n",
       " '쉽/Verb',\n",
       " '어제/Noun',\n",
       " '보는/Verb',\n",
       " '이건/Noun',\n",
       " '점점/Noun',\n",
       " '거짓말/Noun',\n",
       " '몰랐/Verb',\n",
       " '절대/Noun',\n",
       " '웃음/Noun',\n",
       " '햇살/Noun',\n",
       " '기다리/Verb',\n",
       " '진짜/Noun',\n",
       " '웃어/Verb',\n",
       " '아름다운/Adjective',\n",
       " '음악/Noun',\n",
       " '다가와/Verb',\n",
       " '흘러/Verb',\n",
       " '있었/Adjective',\n",
       " '안녕/Noun',\n",
       " '잊/Verb',\n",
       " '없었/Adjective',\n",
       " '사랑하는/Verb',\n",
       " '보며/Verb',\n",
       " '봄/Noun',\n",
       " '올/Verb',\n",
       " '자꾸만/Noun',\n",
       " '지켜/Verb',\n",
       " '순/Noun',\n",
       " '사실/Noun',\n",
       " '찾아/Verb',\n",
       " '그날/Noun',\n",
       " '사는/Verb',\n",
       " '지워/Verb',\n",
       " '돌아/Verb',\n",
       " '차/Noun',\n",
       " '원해/Verb',\n",
       " '빠져/Verb',\n",
       " '달콤한/Adjective',\n",
       " '그리/Verb',\n",
       " '믿어/Verb',\n",
       " '가지/Noun',\n",
       " '부르/Verb',\n",
       " '잊어/Verb',\n",
       " '달라/Noun',\n",
       " '겨울/Noun',\n",
       " '기억해/Verb',\n",
       " '사랑할/Verb',\n",
       " '뛰/Verb',\n",
       " '새/Noun',\n",
       " '남/Noun',\n",
       " '긴/Verb',\n",
       " '올라/Verb',\n",
       " '쓰/Verb',\n",
       " '행복/Noun',\n",
       " '먼저/Noun',\n",
       " '묻/Verb',\n",
       " '아픔/Noun',\n",
       " '지/Verb',\n",
       " '남아/Noun',\n",
       " '있지/Adjective',\n",
       " '위한/Verb',\n",
       " '불/Noun',\n",
       " '어느새/Adjective',\n",
       " '하얀/Adjective',\n",
       " '말할/Verb',\n",
       " '고백/Noun',\n",
       " '달/Noun',\n",
       " '표정/Noun',\n",
       " '가고/Verb',\n",
       " '만큼/Noun',\n",
       " '행복해/Adjective',\n",
       " '예뻐/Adjective',\n",
       " '종일/Noun',\n",
       " '만나/Verb',\n",
       " '일이/Noun',\n",
       " '똑같/Adjective',\n",
       " '버릴/Verb',\n",
       " '향해/Verb',\n",
       " '적/Noun',\n",
       " '라면/Noun',\n",
       " '바다/Noun',\n",
       " '어둠/Noun',\n",
       " '엄마/Noun',\n",
       " '생각해/Verb',\n",
       " '슬픈/Adjective',\n",
       " '웃고/Verb',\n",
       " '예쁜/Adjective',\n",
       " '두고/Verb',\n",
       " '아래/Noun',\n",
       " '지난/Noun',\n",
       " '어깨/Noun',\n",
       " '그랬/Adjective',\n",
       " '받아/Verb',\n",
       " '아는/Verb',\n",
       " '붙잡/Verb',\n",
       " '뜨/Verb',\n",
       " '지쳐/Verb',\n",
       " '전화/Noun',\n",
       " '많아/Adjective',\n",
       " '시작/Noun',\n",
       " '홀로/Noun',\n",
       " '발/Noun',\n",
       " '후회/Noun',\n",
       " '안고/Noun',\n",
       " '만들어/Verb',\n",
       " '어떡해/Adjective',\n",
       " '갔/Verb',\n",
       " '웃는/Verb',\n",
       " '모르는/Verb',\n",
       " '미치/Adjective',\n",
       " '간다/Noun',\n",
       " '벌써/Noun',\n",
       " '듣고/Verb',\n",
       " '지나/Noun',\n",
       " '이러/Verb',\n",
       " '중/Noun',\n",
       " '요즘/Noun',\n",
       " '원하는/Verb',\n",
       " '미련/Noun',\n",
       " '잔/Noun',\n",
       " '랩/Noun',\n",
       " '같/Adjective',\n",
       " '오늘밤/Noun',\n",
       " '떠난/Verb',\n",
       " '오빠/Noun',\n",
       " '느껴/Verb',\n",
       " '필요/Noun',\n",
       " '남겨/Verb',\n",
       " '어쩌면/Noun',\n",
       " '운명/Noun',\n",
       " '바라봐/Verb',\n",
       " '음/Noun',\n",
       " '싶다/Verb',\n",
       " '현실/Noun',\n",
       " '춤/Noun',\n",
       " '져/Verb',\n",
       " '따뜻한/Adjective',\n",
       " '그리움/Noun',\n",
       " '의미/Noun',\n",
       " '선/Noun',\n",
       " '설레/Adjective',\n",
       " '방/Noun',\n",
       " '기도/Noun',\n",
       " '미친/Adjective',\n",
       " '슬픔/Noun',\n",
       " '보다/Verb',\n",
       " '귀/Noun',\n",
       " '채워/Verb',\n",
       " '잊고/Verb',\n",
       " '모른/Verb',\n",
       " '담아/Verb',\n",
       " '울/Verb',\n",
       " '해야/Verb',\n",
       " '남은/Verb',\n",
       " '없네/Adjective',\n",
       " '감정/Noun',\n",
       " '행복했/Adjective',\n",
       " '써/Verb',\n",
       " '사라져/Verb',\n",
       " '간/Noun',\n",
       " '구름/Noun',\n",
       " '앉아/Verb',\n",
       " '미쳐/Adjective',\n",
       " '다신/Verb',\n",
       " '밥/Noun',\n",
       " '깊은/Adjective',\n",
       " '차가운/Adjective',\n",
       " '가까이/Noun',\n",
       " '가지/Verb',\n",
       " '힘든/Adjective',\n",
       " '행복한/Adjective',\n",
       " '보내/Verb',\n",
       " '울어/Verb',\n",
       " '오는/Verb',\n",
       " '몰래/Noun',\n",
       " '내게로/Noun',\n",
       " '힘들어/Adjective',\n",
       " '볼까/Verb',\n",
       " '감아/Verb',\n",
       " '사진/Noun',\n",
       " '흐르/Verb',\n",
       " '고마워/Adjective',\n",
       " '보지/Noun',\n",
       " '큰/Verb',\n",
       " '수많/Adjective',\n",
       " '옷/Noun',\n",
       " '그땐/Noun',\n",
       " '없잖/Adjective',\n",
       " '이야기/Noun',\n",
       " '새벽/Noun',\n",
       " '소중한/Adjective',\n",
       " '내려/Verb',\n",
       " '닿/Verb',\n",
       " '목/Noun',\n",
       " '향한/Verb',\n",
       " '약속/Noun',\n",
       " '오래/Noun',\n",
       " '거기/Noun',\n",
       " '가장/Noun',\n",
       " '질/Verb',\n",
       " '맞춰/Verb',\n",
       " '영화/Noun',\n",
       " '그대만/Noun',\n",
       " '여름/Noun',\n",
       " '태양/Noun',\n",
       " '처럼/Noun',\n",
       " '마주/Noun',\n",
       " '내리/Verb',\n",
       " '우릴/Noun',\n",
       " '계절/Noun',\n",
       " '웃으/Verb',\n",
       " '쉬/Verb',\n",
       " '한숨/Noun',\n",
       " '눈치/Noun',\n",
       " '보이지/Noun',\n",
       " '타고/Noun',\n",
       " '주고/Verb',\n",
       " '흔들어/Verb',\n",
       " '고민/Noun',\n",
       " '그려/Verb',\n",
       " '말하지/Verb',\n",
       " '있던/Adjective',\n",
       " '먹고/Verb',\n",
       " '둬/Verb',\n",
       " '시선/Noun',\n",
       " '겁/Noun',\n",
       " '세월/Noun',\n",
       " '보이는/Verb',\n",
       " '해줄/Verb',\n",
       " '먼/Adjective',\n",
       " '어린/Verb',\n",
       " '스쳐/Verb',\n",
       " '진심/Noun',\n",
       " '줬/Verb',\n",
       " '막/Noun',\n",
       " '수도/Noun',\n",
       " '생각나/Verb',\n",
       " '딴/Verb',\n",
       " '한참/Noun',\n",
       " '정신/Noun',\n",
       " '개/Noun',\n",
       " '바라/Verb',\n",
       " '예전/Noun',\n",
       " '기대/Noun',\n",
       " '너란/Noun',\n",
       " '두려워/Adjective',\n",
       " '빛나는/Verb',\n",
       " '필요해/Adjective',\n",
       " '어쩔/Verb',\n",
       " '아마/Noun',\n",
       " '둔/Verb',\n",
       " '보니/Verb',\n",
       " '문/Noun',\n",
       " '미래/Noun',\n",
       " '흐르는/Verb',\n",
       " '가진/Verb',\n",
       " '새로운/Adjective',\n",
       " '나쁜/Adjective',\n",
       " '쉴/Verb',\n",
       " '느낄/Verb',\n",
       " '나이/Noun',\n",
       " '만난/Noun',\n",
       " '대도/Noun',\n",
       " '변해/Adjective',\n",
       " '미워/Adjective',\n",
       " '따윈/Noun',\n",
       " '크게/Noun',\n",
       " '잠들/Verb',\n",
       " '준비/Noun',\n",
       " '싶었/Verb',\n",
       " '말했/Verb',\n",
       " '라라/Noun',\n",
       " '멋진/Adjective',\n",
       " '멀어져/Verb',\n",
       " '만날/Noun',\n",
       " '고개/Noun',\n",
       " '느끼/Verb',\n",
       " '기다릴/Verb',\n",
       " '갖고/Verb',\n",
       " '파도/Noun',\n",
       " '참아/Verb',\n",
       " '꽉/Noun',\n",
       " '걷는/Verb',\n",
       " '거울/Noun',\n",
       " '싶/Verb',\n",
       " '가면/Noun',\n",
       " '떠나지/Verb',\n",
       " '뜨거운/Adjective',\n",
       " '벗어/Verb',\n",
       " '뭔가/Noun',\n",
       " '길이/Noun',\n",
       " '답/Noun',\n",
       " '달빛/Noun',\n",
       " '용기/Noun',\n",
       " '멈출/Verb',\n",
       " '제일/Noun',\n",
       " '사랑하고/Verb',\n",
       " '아름답/Adjective',\n",
       " '지울/Verb',\n",
       " '감싸/Verb',\n",
       " '따/Verb',\n",
       " '타/Noun',\n",
       " '예쁘/Adjective',\n",
       " '커피/Noun',\n",
       " '높이/Noun',\n",
       " '들리/Verb',\n",
       " '말하고/Verb',\n",
       " '하루하루/Noun',\n",
       " '숨겨/Verb',\n",
       " '열어/Verb',\n",
       " '빈/Noun',\n",
       " '드는/Verb',\n",
       " '보자/Verb',\n",
       " '믿고/Verb',\n",
       " '녹아/Verb',\n",
       " '걷고/Verb',\n",
       " '발걸음/Noun',\n",
       " '한잔/Noun',\n",
       " '이제야/Noun',\n",
       " '고/Noun',\n",
       " '지친/Verb',\n",
       " '바라보는/Verb',\n",
       " '만들/Verb',\n",
       " '파/Noun',\n",
       " '때론/Noun',\n",
       " '흔적/Noun',\n",
       " '상상/Noun',\n",
       " '웃게/Verb',\n",
       " '떨려/Verb',\n",
       " '오지/Noun',\n",
       " '오면/Verb',\n",
       " '기적/Noun',\n",
       " '말투/Noun',\n",
       " '밀어/Verb',\n",
       " '찬/Noun',\n",
       " '보낼/Verb',\n",
       " '그리운/Adjective',\n",
       " '배/Noun',\n",
       " '비춰/Verb',\n",
       " '문득/Noun',\n",
       " '뜨겁/Adjective',\n",
       " '선물/Noun',\n",
       " '평생/Noun',\n",
       " '신경/Noun',\n",
       " '볼/Verb',\n",
       " '쉬/Noun',\n",
       " '말로/Noun',\n",
       " '대신/Noun',\n",
       " '들었/Verb',\n",
       " '보낸/Verb',\n",
       " '안겨/Verb',\n",
       " '하던/Verb',\n",
       " '죽어/Verb',\n",
       " '보/Noun',\n",
       " '깊이/Noun',\n",
       " '만났/Verb',\n",
       " '가득한/Adjective',\n",
       " '땜/Noun',\n",
       " '아님/Adjective',\n",
       " '주는/Verb',\n",
       " '보이/Noun',\n",
       " '공기/Noun',\n",
       " '살짝/Noun',\n",
       " '아름다워/Adjective',\n",
       " '취해/Verb',\n",
       " '놔/Verb',\n",
       " '첫/Noun',\n",
       " '그것/Noun',\n",
       " '라라라/Noun',\n",
       " '좋아해/Adjective',\n",
       " '돌아갈/Verb',\n",
       " '날개/Noun',\n",
       " '힙합/Noun',\n",
       " '헤어지/Verb',\n",
       " '지나간/Verb',\n",
       " '일어나/Verb',\n",
       " '멈추지/Verb',\n",
       " '물어/Noun',\n",
       " '웃/Noun',\n",
       " '떨리는/Verb',\n",
       " '들려/Verb',\n",
       " '눈부신/Adjective',\n",
       " '감고/Noun',\n",
       " '안되/Verb',\n",
       " '먹어/Verb',\n",
       " '기다리는/Verb',\n",
       " '차갑/Adjective',\n",
       " '떠날/Verb',\n",
       " '슬퍼/Adjective',\n",
       " '보려/Verb',\n",
       " '하겠/Verb',\n",
       " '잡은/Verb',\n",
       " '열/Noun',\n",
       " '걸었/Verb',\n",
       " '꺼/Verb',\n",
       " '여긴/Verb',\n",
       " '더욱/Noun',\n",
       " '잊었/Verb',\n",
       " '리/Noun',\n",
       " '맴/Noun',\n",
       " '가을/Noun',\n",
       " '스/Noun',\n",
       " '죽/Noun',\n",
       " '좋아하는/Adjective',\n",
       " '장난/Noun',\n",
       " '기다렸/Verb',\n",
       " '수줍/Adjective',\n",
       " '반/Noun',\n",
       " '돌려/Verb',\n",
       " '가자/Verb',\n",
       " '뻔한/Adjective',\n",
       " '도시/Noun',\n",
       " '멍하니/Noun',\n",
       " '욕심/Noun',\n",
       " '하며/Verb',\n",
       " '대답/Noun',\n",
       " '노랠/Adjective',\n",
       " '솔직히/Adjective',\n",
       " '꺼내/Verb',\n",
       " '머릿속/Noun',\n",
       " '걷다/Verb',\n",
       " '가요/Noun',\n",
       " '지나면/Verb',\n",
       " '꿈속/Noun',\n",
       " '도대체/Noun',\n",
       " '가사/Noun',\n",
       " '놀아/Verb',\n",
       " '모를/Verb',\n",
       " '둘이서/Noun',\n",
       " '시절/Noun',\n",
       " '돌아올/Verb',\n",
       " '오늘이/Noun',\n",
       " '귓가/Noun',\n",
       " '내리는/Verb',\n",
       " '원래/Noun',\n",
       " '미칠/Adjective',\n",
       " '무대/Noun',\n",
       " '나라/Noun',\n",
       " '같지/Adjective',\n",
       " '인사/Noun',\n",
       " '관심/Noun',\n",
       " '믿었/Verb',\n",
       " '키/Noun',\n",
       " '시/Noun',\n",
       " '같던/Adjective',\n",
       " '다르/Adjective',\n",
       " '아껴/Verb',\n",
       " '별빛/Noun',\n",
       " '커져/Verb',\n",
       " '잊으/Verb',\n",
       " '가도/Noun',\n",
       " '같았/Adjective',\n",
       " '어른/Noun',\n",
       " '소리쳐/Verb',\n",
       " '매력/Noun',\n",
       " '먹/Verb',\n",
       " '아무런/Adjective',\n",
       " '날씨/Noun',\n",
       " '질/Noun',\n",
       " '밤새/Noun',\n",
       " '싫은/Adjective',\n",
       " '남아/Verb',\n",
       " '탓/Noun',\n",
       " '마라/Adjective',\n",
       " '밖/Noun',\n",
       " '온통/Noun',\n",
       " '맘속/Noun',\n",
       " '치/Noun',\n",
       " '지내/Verb',\n",
       " '조각/Noun',\n",
       " '닮은/Verb',\n",
       " '다리/Noun',\n",
       " '아빠/Noun',\n",
       " '있니/Adjective',\n",
       " '뒷모습/Noun',\n",
       " '터질/Verb',\n",
       " '떠나가/Verb',\n",
       " '기회/Noun',\n",
       " '외쳐/Verb',\n",
       " '만든/Verb',\n",
       " '궁금해/Adjective',\n",
       " '믿/Verb',\n",
       " '찾/Verb',\n",
       " '희미/Noun',\n",
       " '그림자/Noun',\n",
       " '걷던/Verb',\n",
       " '멜로디/Noun',\n",
       " '절대로/Noun',\n",
       " '외로운/Adjective',\n",
       " '바라볼/Verb',\n",
       " '땅/Noun',\n",
       " '불빛/Noun',\n",
       " '숨어/Verb',\n",
       " '외롭/Adjective',\n",
       " '하얗/Adjective',\n",
       " '깊어/Adjective',\n",
       " '외로움/Noun',\n",
       " '영원/Noun',\n",
       " '새끼/Noun',\n",
       " '놓치/Verb',\n",
       " '빠진/Verb',\n",
       " '상관없/Adjective',\n",
       " '리듬/Noun',\n",
       " '늦은/Verb',\n",
       " '가슴속/Noun',\n",
       " '일상/Noun',\n",
       " '시작해/Verb',\n",
       " '생각했/Verb',\n",
       " '비워/Verb',\n",
       " '울려/Verb',\n",
       " '따스한/Adjective',\n",
       " '밤하늘/Noun',\n",
       " '두운/Noun',\n",
       " '들어와/Verb',\n",
       " '연락/Noun',\n",
       " '분/Noun',\n",
       " '간직/Noun',\n",
       " '주위/Noun',\n",
       " '보기/Noun',\n",
       " '서울/Noun',\n",
       " '간절/Noun',\n",
       " '푸른/Noun',\n",
       " '변하지/Adjective',\n",
       " '보일/Verb',\n",
       " '어딘가/Noun',\n",
       " '들이/Verb',\n",
       " '빨간/Adjective',\n",
       " '정도/Noun',\n",
       " '짓/Noun',\n",
       " '갑자기/Noun',\n",
       " '쉬는/Verb',\n",
       " '만남/Noun',\n",
       " '우주/Noun',\n",
       " '보이/Verb',\n",
       " '없죠/Adjective',\n",
       " '가봐/Verb',\n",
       " '돌이/Noun',\n",
       " '인연/Noun',\n",
       " '미쳤/Adjective',\n",
       " '시계/Noun',\n",
       " '문제/Noun',\n",
       " '있기/Adjective',\n",
       " '누워/Verb',\n",
       " '가질/Verb',\n",
       " '슬프/Adjective',\n",
       " '공간/Noun',\n",
       " '미/Adjective',\n",
       " '마음속/Noun',\n",
       " '그립/Verb',\n",
       " '즐겨/Verb',\n",
       " '던져/Verb',\n",
       " '거짓/Noun',\n",
       " '비밀/Noun',\n",
       " '좋아한/Adjective',\n",
       " '여행/Noun',\n",
       " '부르는/Verb',\n",
       " '일도/Noun',\n",
       " '바닥/Noun',\n",
       " '마시/Verb',\n",
       " '사라지/Verb',\n",
       " '피/Noun',\n",
       " '붙어/Verb',\n",
       " '얼어/Verb',\n",
       " '손길/Noun',\n",
       " '멀어지/Verb',\n",
       " '입고/Verb',\n",
       " '불어/Noun',\n",
       " '떠나간/Verb',\n",
       " '텅/Noun',\n",
       " '바라는/Verb',\n",
       " '잡/Noun',\n",
       " '철/Noun',\n",
       " '법/Noun',\n",
       " '변한/Adjective',\n",
       " '서야/Verb',\n",
       " '산/Noun',\n",
       " '보/Verb',\n",
       " '멀/Adjective',\n",
       " '코/Noun',\n",
       " '최고/Noun',\n",
       " '적/Verb',\n",
       " '흔들/Verb',\n",
       " '마셔/Verb',\n",
       " '머물/Verb',\n",
       " '가려/Verb',\n",
       " '짜/Verb',\n",
       " '힘들었/Adjective',\n",
       " '그림/Noun',\n",
       " '설레임/Noun',\n",
       " '보네/Verb',\n",
       " '담배/Noun',\n",
       " '아플/Adjective',\n",
       " '가야/Noun',\n",
       " '망설이/Verb',\n",
       " '다가/Noun',\n",
       " '약속해/Verb',\n",
       " '짧은/Adjective',\n",
       " '기다린/Verb',\n",
       " '말하는/Verb',\n",
       " '연애/Noun',\n",
       " '세/Noun',\n",
       " '맛/Noun',\n",
       " '영원한/Adjective',\n",
       " '털어/Verb',\n",
       " '습관/Noun',\n",
       " '돌아가/Verb',\n",
       " '숨결/Noun',\n",
       " '높은/Adjective',\n",
       " '돌고/Verb',\n",
       " '끝내/Noun',\n",
       " '희망/Noun',\n",
       " '키스/Noun',\n",
       " '지나고/Verb',\n",
       " '낯선/Noun',\n",
       " '서서/Noun',\n",
       " '이해/Noun',\n",
       " '형/Noun',\n",
       " '문자/Noun',\n",
       " '오랜만/Noun',\n",
       " '온/Verb',\n",
       " '견딜/Verb',\n",
       " '티/Noun',\n",
       " '맞아/Verb',\n",
       " '찾고/Verb',\n",
       " '손잡/Verb',\n",
       " '잘못/Noun',\n",
       " '갈수록/Noun',\n",
       " '잃은/Verb',\n",
       " '꽤/Noun',\n",
       " '울었/Verb',\n",
       " '잊은/Verb',\n",
       " '틈/Noun',\n",
       " '저녁/Noun',\n",
       " '잠든/Verb',\n",
       " '깨/Noun',\n",
       " '이길/Verb',\n",
       " '찾지/Verb',\n",
       " '존재/Noun',\n",
       " '지나도/Verb',\n",
       " '행복하게/Adjective',\n",
       " '린/Noun',\n",
       " '울리/Verb',\n",
       " '달이/Noun',\n",
       " '속삭여/Verb',\n",
       " '외로워/Noun',\n",
       " '꽃잎/Noun',\n",
       " '마디/Noun',\n",
       " '낯설/Adjective',\n",
       " '영혼/Noun',\n",
       " '빠졌/Verb',\n",
       " '언젠간/Noun',\n",
       " '두렵/Adjective',\n",
       " '생각하면/Verb',\n",
       " '믿지/Verb',\n",
       " '이겨/Verb',\n",
       " '흔한/Adjective',\n",
       " '크리스마스/Noun',\n",
       " '익숙한/Adjective',\n",
       " '사랑하지/Verb',\n",
       " '고픈/Adjective',\n",
       " '청춘/Noun',\n",
       " '날려/Verb',\n",
       " '신/Verb',\n",
       " '바라보고/Verb',\n",
       " '온기/Noun',\n",
       " '눈앞/Noun',\n",
       " '조용히/Adjective',\n",
       " '맞/Verb',\n",
       " '사랑합/Verb',\n",
       " '바라보며/Verb',\n",
       " '설레는/Adjective',\n",
       " '은/Noun',\n",
       " '부를/Verb',\n",
       " '이상해/Adjective',\n",
       " '보내고/Verb',\n",
       " '견뎌/Verb',\n",
       " '맘대로/Noun',\n",
       " '새겨/Verb',\n",
       " '노을/Noun',\n",
       " '안해/Noun',\n",
       " '들어가/Verb',\n",
       " '찾아와/Verb',\n",
       " '자고/Noun',\n",
       " '타는/Verb',\n",
       " '병/Noun',\n",
       " '달/Verb',\n",
       " '맞는/Verb',\n",
       " '꺼져/Verb',\n",
       " '시원한/Adjective',\n",
       " '나가/Verb',\n",
       " '표현/Noun',\n",
       " '신/Noun',\n",
       " '사랑하니/Verb',\n",
       " '환하게/Adjective',\n",
       " '찾는/Verb',\n",
       " '비친/Verb',\n",
       " '벌어/Verb',\n",
       " '연인/Noun',\n",
       " '손가락/Noun',\n",
       " '잃어/Verb',\n",
       " '머물러/Verb',\n",
       " '밝은/Verb',\n",
       " '하나요/Noun',\n",
       " '맡겨/Verb',\n",
       " '끝난/Verb',\n",
       " '말해도/Verb',\n",
       " '낮/Noun',\n",
       " '다가가/Verb',\n",
       " '느껴져/Verb',\n",
       " '뜨거워/Adjective',\n",
       " '대한/Noun',\n",
       " '비켜/Verb',\n",
       " '함께한/Verb',\n",
       " '자존심/Noun',\n",
       " '볼게/Verb',\n",
       " '거친/Verb',\n",
       " '춰/Verb',\n",
       " '나무/Noun',\n",
       " '밑/Noun',\n",
       " '보게/Verb',\n",
       " '남기/Verb',\n",
       " '살아갈/Verb',\n",
       " '않으/Verb',\n",
       " '남았/Verb',\n",
       " '받고/Verb',\n",
       " '행동/Noun',\n",
       " '떠났/Verb',\n",
       " '달려가/Verb',\n",
       " '싹/Noun',\n",
       " '있도/Adjective',\n",
       " '고통/Noun',\n",
       " '이기/Noun',\n",
       " '태워/Verb',\n",
       " '사랑해서/Verb',\n",
       " '화/Noun',\n",
       " '지고/Noun',\n",
       " '흘리/Verb',\n",
       " '되었/Verb',\n",
       " '지워지/Verb',\n",
       " '먼지/Noun',\n",
       " '뛰는/Verb',\n",
       " '멈춘/Verb',\n",
       " '만나고/Verb',\n",
       " '주지/Noun',\n",
       " '빠르/Adjective',\n",
       " '주세/Verb',\n",
       " '지는/Verb',\n",
       " '잃어버린/Verb',\n",
       " '살아가는/Verb',\n",
       " '변했/Adjective',\n",
       " '완전/Noun',\n",
       " '가져/Verb',\n",
       " '창문/Noun',\n",
       " '밀려/Verb',\n",
       " '주인공/Noun',\n",
       " '전혀/Noun',\n",
       " '끝났/Verb',\n",
       " '원망/Noun',\n",
       " '누굴/Noun',\n",
       " '뭐라/Verb',\n",
       " '찔/Verb',\n",
       " '잡지/Noun',\n",
       " '기다림/Noun',\n",
       " '분위기/Noun',\n",
       " '만나서/Verb',\n",
       " '끈/Noun',\n",
       " '갇혀/Verb',\n",
       " '잊혀지/Verb',\n",
       " '그거/Noun',\n",
       " '어렵/Adjective',\n",
       " '멍/Noun',\n",
       " '갤/Verb',\n",
       " '냈/Verb',\n",
       " '싫다/Adjective',\n",
       " '결혼/Noun',\n",
       " '막아/Verb',\n",
       " '하려/Verb',\n",
       " '가족/Noun',\n",
       " '오오오/Noun',\n",
       " '지킬/Verb',\n",
       " '담/Noun',\n",
       " '하자/Noun',\n",
       " '따라와/Verb',\n",
       " '신발/Noun',\n",
       " '행복할/Adjective',\n",
       " '흰/Adjective',\n",
       " '넘어/Verb',\n",
       " '노/Noun',\n",
       " '가시/Noun',\n",
       " '지우고/Verb',\n",
       " '향/Noun',\n",
       " '온종일/Noun',\n",
       " '떨어지/Verb',\n",
       " '해/Verb',\n",
       " '만나면/Verb',\n",
       " '아직까지/Noun',\n",
       " '너머/Noun',\n",
       " '쓴/Verb',\n",
       " '바뀌/Verb',\n",
       " '얘길/Noun',\n",
       " '답답해/Adjective',\n",
       " '날아가/Verb',\n",
       " '자주/Noun',\n",
       " '상관/Noun',\n",
       " '주변/Noun',\n",
       " '떠나고/Verb',\n",
       " '이불/Noun',\n",
       " '뜬/Verb',\n",
       " '만드는/Verb',\n",
       " '돌아봐/Verb',\n",
       " '켜/Noun',\n",
       " '우는/Verb',\n",
       " '무릎/Noun',\n",
       " '냄새/Noun',\n",
       " '번만/Noun',\n",
       " '닮아/Verb',\n",
       " '창/Noun',\n",
       " '쓸/Verb',\n",
       " '움/Noun',\n",
       " '삶은/Verb',\n",
       " '믿음/Noun',\n",
       " '뭐라고/Verb',\n",
       " '루루/Noun',\n",
       " '하나로/Noun',\n",
       " '파란/Noun',\n",
       " '입니/Adjective',\n",
       " '아팠/Adjective',\n",
       " '지키/Verb',\n",
       " '필요한/Adjective',\n",
       " '안되는/Verb',\n",
       " '운/Noun',\n",
       " ...]"
      ]
     },
     "execution_count": 153,
     "metadata": {},
     "output_type": "execute_result"
    }
   ],
   "source": [
    "model.wv.index2word"
   ]
  },
  {
   "cell_type": "code",
   "execution_count": 175,
   "metadata": {
    "collapsed": false,
    "scrolled": true
   },
   "outputs": [
    {
     "data": {
      "text/plain": [
       "['야망/Noun',\n",
       " '가져와/Verb',\n",
       " '눈/Noun',\n",
       " '감어/Verb',\n",
       " '아련한/Adjective',\n",
       " '과거/Noun',\n",
       " '땜/Noun',\n",
       " '쌓여/Verb',\n",
       " '돈/Noun',\n",
       " '낙엽/Noun',\n",
       " '가까워/Adjective',\n",
       " '천국/Noun',\n",
       " '정말/Noun',\n",
       " '설레/Adjective',\n",
       " '장면/Noun',\n",
       " '생각하면/Verb',\n",
       " '말/Noun',\n",
       " '삶/Noun',\n",
       " '영화/Noun',\n",
       " '만들어/Verb',\n",
       " '결말/Noun',\n",
       " '번/Noun',\n",
       " '던/Noun',\n",
       " '구체/Noun',\n",
       " '만큼/Noun',\n",
       " '결과/Noun',\n",
       " '삶은/Verb',\n",
       " '더/Noun',\n",
       " '나은/Noun',\n",
       " '곳/Noun',\n",
       " '밝은/Verb',\n",
       " '빛과/Noun',\n",
       " '정상/Noun',\n",
       " '올려다봐/Verb',\n",
       " '더/Noun',\n",
       " '한층/Noun',\n",
       " '올라온/Verb',\n",
       " '공기/Noun',\n",
       " '시작/Noun',\n",
       " '높이/Noun',\n",
       " '나름/Noun',\n",
       " '좋/Adjective',\n",
       " '보기/Noun',\n",
       " '놈/Noun',\n",
       " '질투/Noun',\n",
       " '하며/Verb',\n",
       " '배/Noun',\n",
       " '아픈/Adjective',\n",
       " '소릴/Noun',\n",
       " '내고/Verb',\n",
       " '작은/Adjective',\n",
       " '고민/Noun',\n",
       " '족/Noun',\n",
       " '닿지/Verb',\n",
       " '못/Noun',\n",
       " '곳/Noun',\n",
       " '위/Noun',\n",
       " '있는/Adjective',\n",
       " '식구/Noun',\n",
       " '뒤/Noun',\n",
       " '이뤄진/Verb',\n",
       " '마당/Noun',\n",
       " '기억/Noun',\n",
       " '하겠/Verb',\n",
       " '삶은/Verb',\n",
       " '병신/Noun',\n",
       " '더/Noun',\n",
       " '빛나/Verb',\n",
       " '멋진/Adjective',\n",
       " '삶/Noun',\n",
       " '불/Noun',\n",
       " '꺼진/Verb',\n",
       " '올해/Noun',\n",
       " '레이블/Noun',\n",
       " '흰/Adjective',\n",
       " '넘/Verb',\n",
       " '보지/Noun',\n",
       " '위치/Noun',\n",
       " '넘어가고/Verb',\n",
       " '있어/Adjective',\n",
       " '믿/Verb',\n",
       " '없는/Adjective',\n",
       " '단어/Noun',\n",
       " '불가능/Noun',\n",
       " '이지/Noun',\n",
       " '팬/Noun',\n",
       " '말/Noun',\n",
       " '썼/Verb',\n",
       " '가사/Noun',\n",
       " '믿지/Verb',\n",
       " '여의도/Noun',\n",
       " '인천공항/Noun',\n",
       " '수많/Adjective',\n",
       " '공연/Noun',\n",
       " '섭외/Noun',\n",
       " '제의/Noun',\n",
       " '기억하니/Verb',\n",
       " '앨범/Noun',\n",
       " '듣던/Verb',\n",
       " '였/Verb',\n",
       " '뭔가/Noun',\n",
       " '괜찮/Adjective',\n",
       " '예감/Noun',\n",
       " '느꼈/Verb',\n",
       " '놈/Noun',\n",
       " '뭐라하던/Verb',\n",
       " '말/Noun',\n",
       " '상상력/Noun',\n",
       " '따윈/Noun',\n",
       " '없는/Adjective',\n",
       " '자식/Noun',\n",
       " '틈/Noun',\n",
       " '식대/Noun',\n",
       " '뭔가/Noun',\n",
       " '보여/Verb',\n",
       " '왔/Verb',\n",
       " '어려/Verb']"
      ]
     },
     "execution_count": 175,
     "metadata": {},
     "output_type": "execute_result"
    }
   ],
   "source": [
    "lyric5[3]"
   ]
  },
  {
   "cell_type": "code",
   "execution_count": 176,
   "metadata": {
    "collapsed": false,
    "scrolled": true
   },
   "outputs": [
    {
     "data": {
      "text/plain": [
       "[('갖네/Verb', 0.8633305430412292),\n",
       " ('원동력/Noun', 0.8263296484947205),\n",
       " ('잉태/Noun', 0.8251901268959045),\n",
       " ('확신해/Verb', 0.8239955306053162),\n",
       " ('개선/Noun', 0.8237568140029907),\n",
       " ('강요해/Verb', 0.8197911977767944),\n",
       " ('평가하는/Verb', 0.8151558041572571),\n",
       " ('고전/Noun', 0.8134928941726685),\n",
       " ('수긍/Noun', 0.81263667345047),\n",
       " ('정한/Verb', 0.8112697601318359)]"
      ]
     },
     "execution_count": 176,
     "metadata": {},
     "output_type": "execute_result"
    }
   ],
   "source": [
    "model.most_similar(lyric5[3])"
   ]
  },
  {
   "cell_type": "code",
   "execution_count": 157,
   "metadata": {
    "collapsed": false
   },
   "outputs": [
    {
     "data": {
      "text/plain": [
       "[('지나면/Verb', 0.6334044933319092),\n",
       " ('보내기/Verb', 0.6147587299346924),\n",
       " ('찾아오는/Verb', 0.5959717035293579),\n",
       " ('헤어짐/Verb', 0.59446120262146),\n",
       " ('늦은/Verb', 0.5941982269287109),\n",
       " ('지나가면/Verb', 0.5924829840660095),\n",
       " ('헤어지/Verb', 0.592344343662262),\n",
       " ('깊어/Adjective', 0.5801204442977905),\n",
       " ('이겠/Verb', 0.5730715990066528),\n",
       " ('마지막/Noun', 0.5718904137611389)]"
      ]
     },
     "execution_count": 157,
     "metadata": {},
     "output_type": "execute_result"
    }
   ],
   "source": [
    "model.most_similar(['이별/Noun', '밤/Noun'])"
   ]
  },
  {
   "cell_type": "code",
   "execution_count": 154,
   "metadata": {
    "collapsed": false
   },
   "outputs": [
    {
     "data": {
      "text/plain": [
       "<gensim.models.keyedvectors.KeyedVectors at 0x298f6e84128>"
      ]
     },
     "execution_count": 154,
     "metadata": {},
     "output_type": "execute_result"
    }
   ],
   "source": [
    "model.wv"
   ]
  },
  {
   "cell_type": "code",
   "execution_count": 155,
   "metadata": {
    "collapsed": false,
    "scrolled": false
   },
   "outputs": [
    {
     "data": {
      "text/plain": [
       "array([[-1.55347633, -1.4909426 , -2.7288568 , ...,  1.89716506,\n",
       "         4.00374794,  1.39468729],\n",
       "       [-1.16234171, -3.03162432, -0.19151056, ...,  1.94227874,\n",
       "         2.37511921,  3.12280035],\n",
       "       [-1.3243227 , -0.8499701 , -0.92944759, ...,  0.15610023,\n",
       "         0.6032837 ,  0.0882861 ],\n",
       "       ..., \n",
       "       [-0.14059645, -0.02597596,  0.02648566, ...,  0.11378787,\n",
       "         0.00781843,  0.07861736],\n",
       "       [ 0.02316719, -0.03157318,  0.08477324, ..., -0.0216442 ,\n",
       "         0.15759292, -0.01734209],\n",
       "       [-0.01662011,  0.0240978 ,  0.13758464, ...,  0.00664206,\n",
       "         0.13021712, -0.07431477]], dtype=float32)"
      ]
     },
     "execution_count": 155,
     "metadata": {},
     "output_type": "execute_result"
    }
   ],
   "source": [
    "model.wv.syn0"
   ]
  },
  {
   "cell_type": "code",
   "execution_count": null,
   "metadata": {
    "collapsed": true
   },
   "outputs": [],
   "source": [
    "# word2vec embedding vectors for words\n",
    "w2v = dict(zip(model.wv.index2word, model.wv.syn0))"
   ]
  },
  {
   "cell_type": "code",
   "execution_count": null,
   "metadata": {
    "collapsed": false
   },
   "outputs": [],
   "source": [
    "w2v"
   ]
  },
  {
   "cell_type": "code",
   "execution_count": null,
   "metadata": {
    "collapsed": true
   },
   "outputs": [],
   "source": [
    "from sklearn.feature_extraction.text import TfidfVectorizer\n",
    "from collections import defaultdict"
   ]
  },
  {
   "cell_type": "code",
   "execution_count": null,
   "metadata": {
    "collapsed": true
   },
   "outputs": [],
   "source": [
    "# word2vec embedding vector와 word에 대한 tfidf 가중치를 이용한 vectorizer 함수\n",
    "class TfidfEmbeddingVectorizer:\n",
    "    def __init__(self, word2vec):\n",
    "        self.word2vec = word2vec\n",
    "        \n",
    "    def transform(self, X):\n",
    "        tfidf = TfidfVectorizer(analyzer = lambda x : x) \n",
    "        tfidf.fit(X)\n",
    "        max_idf = max(tfidf.idf_)\n",
    "        word2weight = defaultdict(lambda : max_idf, [(w, tfidf.idf_[i]) for w, i in tfidf.vocabulary_.items()]) \n",
    "        \n",
    "        array_list =[]\n",
    "        for words in X:\n",
    "            array_list.append(np.array(np.mean([self.word2vec[w]*word2weight[w] for w in words if w in self.word2vec] or [np.zeros(100)], axis = 0)))\n",
    "        return(array_list)"
   ]
  },
  {
   "cell_type": "code",
   "execution_count": null,
   "metadata": {
    "collapsed": true
   },
   "outputs": [],
   "source": [
    "vec_tf = TfidfEmbeddingVectorizer(w2v)"
   ]
  },
  {
   "cell_type": "code",
   "execution_count": null,
   "metadata": {
    "collapsed": false
   },
   "outputs": [],
   "source": [
    "vec_tf"
   ]
  },
  {
   "cell_type": "code",
   "execution_count": null,
   "metadata": {
    "collapsed": false
   },
   "outputs": [],
   "source": [
    "train_tf = vec_tf.transform(result5)"
   ]
  },
  {
   "cell_type": "code",
   "execution_count": null,
   "metadata": {
    "collapsed": false
   },
   "outputs": [],
   "source": [
    "train_tf"
   ]
  }
 ],
 "metadata": {
  "kernelspec": {
   "display_name": "Python 3",
   "language": "python",
   "name": "python3"
  },
  "language_info": {
   "codemirror_mode": {
    "name": "ipython",
    "version": 3
   },
   "file_extension": ".py",
   "mimetype": "text/x-python",
   "name": "python",
   "nbconvert_exporter": "python",
   "pygments_lexer": "ipython3",
   "version": "3.6.0"
  }
 },
 "nbformat": 4,
 "nbformat_minor": 2
}
