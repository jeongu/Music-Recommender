{
 "cells": [
  {
   "cell_type": "markdown",
   "metadata": {},
   "source": [
    "### import"
   ]
  },
  {
   "cell_type": "code",
   "execution_count": null,
   "metadata": {},
   "outputs": [],
   "source": [
    "library(data.table)\n",
    "library(dplyr)\n",
    "library(cluster)\n",
    "library(plyr)\n",
    "library(stringr)"
   ]
  },
  {
   "cell_type": "code",
   "execution_count": null,
   "metadata": {},
   "outputs": [],
   "source": [
    "# Top 10 추출\n",
    "setwd(\"C:/Users/user/Desktop/Statistics/Bigdata_analysis/Project/bind_data_melon/list_up\")\n",
    "list <- list.files()\n",
    "\n",
    "## 80개의 노래들 각각 리스트업\n",
    "data <- lapply(list, fread)\n",
    "num <- c()\n",
    "for(i in 1:80){\n",
    "  num <- c(num, str_sub(list[i], 1, length(list[i])-6))\n",
    "}\n",
    "\n",
    "data2 <- list()\n",
    "for(i in 1:80){\n",
    "  temp <- data[[i]]\n",
    "  temp <- temp[,-1]\n",
    "  \n",
    "  ID <- temp$ID[order(temp$Similarity, decreasing = T)][2:11]\n",
    "  Similarity <- sort(temp$Similarity, decreasing = T)[2:11]\n",
    "  data2[[i]] <- data.frame(ID = ID, LS = Similarity)\n",
    "}"
   ]
  },
  {
   "cell_type": "code",
   "execution_count": null,
   "metadata": {},
   "outputs": [],
   "source": [
    "## 80개의 노래들 각각 Top 10 매칭\n",
    "setwd('C:/Users/user/Desktop/Statistics/Bigdata_analysis/Project/bind_data_melon')\n",
    "Melon2_df <- fread('Melon2_df.csv')[,-1]\n",
    "\n",
    "data3 <- list()\n",
    "for(i in 1:80){\n",
    "  temp <- data2[[i]]\n",
    "  data3[[i]] <- Melon2_df %>% filter(Melon2_df$ID %in% temp$ID) %>% select(-Cnt, -Title, -Album, -Lyric)\n",
    "}"
   ]
  },
  {
   "cell_type": "markdown",
   "metadata": {},
   "source": [
    "### Gower Similarity"
   ]
  },
  {
   "cell_type": "code",
   "execution_count": null,
   "metadata": {},
   "outputs": [],
   "source": [
    "str(Melon2_df)\n",
    "str(data3[[1]])\n",
    "\n",
    "data4 <- list()\n",
    "for(i in 1:80){\n",
    "  temp2 <- Melon2_df %>% filter(ID == num[i]) %>% select(-Cnt, -Title, -Album, -Lyric)\n",
    "  \n",
    "  temp <- data3[[i]]\n",
    "  temp <- rbind(temp2, temp)\n",
    "  temp$Artist <- as.factor(temp$Artist)\n",
    "  temp$Genre <- as.factor(temp$Genre)\n",
    "  temp$Flac <- as.factor(temp$Flac)\n",
    "  temp$Year <- as.factor(temp$Year)\n",
    "  temp$Season <- as.factor(temp$Season)\n",
    "  \n",
    "  temp3 <- as.matrix(daisy(temp[,-1] , metric = 'gower'))\n",
    "  ID <- temp$ID[-1]\n",
    "  Gower_Similarity <- c(temp3[c(2:11),1])\n",
    "  data4[[i]] <- data.frame(ID=ID, GS=Gower_Similarity)\n",
    "  names(data4[i]) <- num[i]\n",
    "}"
   ]
  },
  {
   "cell_type": "code",
   "execution_count": null,
   "metadata": {},
   "outputs": [],
   "source": [
    "## Number of Play\n",
    "temp <- Melon2_df %>% filter(ID %in% num)\n",
    "vec <- temp$Cnt\n",
    "P_Score <- temp$Cnt/sum(vec)\n",
    "M_Score <- (vec-min(vec))/(max(vec)-min(vec))\n",
    "id <- temp$ID\n",
    "data5 <- data.frame(ID=id, P_Score=P_Score, M_Score=M_Score)"
   ]
  },
  {
   "cell_type": "code",
   "execution_count": null,
   "metadata": {},
   "outputs": [],
   "source": [
    "## 평가 지표 합치기\n",
    "data6 <- list()\n",
    "for(i in 1:80){\n",
    "  temp <- left_join(data2[[i]], data4[[i]])\n",
    "  data6[[i]] <- cbind(temp, P_Score=data5$P_Score[i], M_Score=data5$M_Score[i])\n",
    "}\n",
    "data6_df <- ldply(data6)\n",
    "length(unique(data6_df$ID))\n",
    "\n",
    "str(data6_df)\n",
    "data6_df$Result.P <- data6_df$LS*data6_df$GS*data6_df$P_Score\n",
    "data6_df$Result.M <- data6_df$LS*data6_df$GS*data6_df$M_Score\n",
    "\n",
    "tempP <- data6_df[order(data6_df$Result.P, decreasing = T),][c(1:20),] %>% select(ID, Result.P)\n",
    "tempM <- data6_df[order(data6_df$Result.M, decreasing = T),][c(1:20),] %>% select(ID, Result.M)\n",
    "\n",
    "tempP2 <- Melon2_df %>% filter(ID %in% tempP$ID) %>% select(ID, Title, Artist)\n",
    "tempM2 <- Melon2_df %>% filter(ID %in% tempM$ID) %>% select(ID, Title, Artist)\n",
    "\n",
    "for(i in 1:20){\n",
    "  temp <- tempP2 %>% filter(ID == tempP$ID[i])\n",
    "  tempP2 <- rbind(tempP2, temp)\n",
    "}\n",
    "tempP2 <- tempP2[-c(1:20),]\n",
    "\n",
    "for(i in 1:20){\n",
    "  temp <- tempM2 %>% filter(ID == tempM$ID[i])\n",
    "  tempM2 <- rbind(tempM2, temp)\n",
    "}\n",
    "tempM2 <- tempM2[-c(1:20),]"
   ]
  },
  {
   "cell_type": "code",
   "execution_count": null,
   "metadata": {},
   "outputs": [],
   "source": [
    "## Cnt를 숫자 그대로 넣어보기\n",
    "data7$Cnt = data7$P_Score*sum(vec)\n",
    "data7$Result.C <- data7$LS*data7$GS*data7$Cnt\n",
    "tempC <- data7[order(data7$Result.C, decreasing = T),][c(1:20),] %>% select(ID, Result.C)\n",
    "tempC2 <- Melon2_df %>% filter(ID %in% tempC$ID) %>% select(ID, Title, Artist)\n",
    "for(i in 1:20){\n",
    "  temp <- tempC2 %>% filter(ID == tempC$ID[i])\n",
    "  tempC2 <- rbind(tempC2, temp)\n",
    "}\n",
    "tempC2 <- tempC2[-c(1:20),]"
   ]
  },
  {
   "cell_type": "code",
   "execution_count": null,
   "metadata": {},
   "outputs": [],
   "source": [
    "## Like MinMax Score\n",
    "temp <- Melon2_df %>% filter(ID %in% data6_df$ID) %>% select(ID, Like)\n",
    "vec <- temp$Like\n",
    "temp$LM_Score <- (vec-min(vec))/(max(vec)-min(vec))\n",
    "\n",
    "data7 <- inner_join(data6_df, temp)\n",
    "summary(data7)\n",
    "\n",
    "tempP3 <- data7[order(data7$Result.P, decreasing = T),][c(1:20),] %>% select(ID, Result.P)\n",
    "tempM3 <- data7[order(data7$Result.M, decreasing = T),][c(1:20),] %>% select(ID, Result.M)\n",
    "\n",
    "tempP4 <- Melon2_df %>% filter(ID %in% tempP3$ID) %>% select(ID, Title, Artist)\n",
    "tempM4 <- Melon2_df %>% filter(ID %in% tempM3$ID) %>% select(ID, Title, Artist)\n",
    "\n",
    "for(i in 1:20){\n",
    "  temp <- tempP4 %>% filter(ID == tempP3$ID[i])\n",
    "  tempP4 <- rbind(tempP4, temp)\n",
    "}\n",
    "tempP4 <- tempP4[-c(1:20),]\n",
    "\n",
    "for(i in 1:20){\n",
    "  temp <- tempM4 %>% filter(ID == tempM3$ID[i])\n",
    "  tempM4 <- rbind(tempM4, temp)\n",
    "}\n",
    "tempM4 <- tempM4[-c(1:20),]"
   ]
  },
  {
   "cell_type": "code",
   "execution_count": null,
   "metadata": {},
   "outputs": [],
   "source": [
    "## 재생횟수 제거\n",
    "data7$Result.L <- data7$LS*data7$GS*data7$LM_Score\n",
    "\n",
    "tempL <- data7[order(data7$Result.L, decreasing = T),][c(1:20),] %>% select(ID, Result.L)\n",
    "tempL2 <- Melon2_df %>% filter(ID %in% tempL$ID) %>% select(ID, Title, Artist)\n",
    "for(i in 1:20){\n",
    "  temp <- tempL2 %>% filter(ID == tempL$ID[i])\n",
    "  tempL2 <- rbind(tempL2, temp)\n",
    "}\n",
    "tempL2 <- tempL2[-c(1:20),]\n",
    "  \n",
    "\n",
    "temp <- Melon2_df %>% filter(ID %in% num) %>% select(ID, Cnt)\n",
    "hist(temp$Cnt, breaks = 30)\n",
    "range(temp$Cnt)\n",
    "\n",
    "Melon2_df %>% filter(ID == '22763')\n",
    "which(list == '2549')"
   ]
  }
 ],
 "metadata": {
  "kernelspec": {
   "display_name": "R",
   "language": "R",
   "name": "ir"
  },
  "language_info": {
   "codemirror_mode": "r",
   "file_extension": ".r",
   "mimetype": "text/x-r-source",
   "name": "R",
   "pygments_lexer": "r",
   "version": "3.4.3"
  }
 },
 "nbformat": 4,
 "nbformat_minor": 2
}
