{
 "cells": [
  {
   "cell_type": "code",
   "execution_count": 1,
   "metadata": {},
   "outputs": [],
   "source": [
    "import numpy as np\n",
    "import pandas as pd\n",
    "from pandas import Series, DataFrame\n",
    "import re\n",
    "import string"
   ]
  },
  {
   "cell_type": "code",
   "execution_count": 109,
   "metadata": {},
   "outputs": [],
   "source": [
    "def preprocessing(pwd):\n",
    "    # import data\n",
    "    melon = pd.read_csv(pwd, encoding='cp949', keep_default_na=False, na_values=\"\").iloc[:,1:]\n",
    "\n",
    "    # drop duplicates\n",
    "    melon.drop_duplicates(inplace=True)\n",
    "\n",
    "    # convert data\n",
    "    melon.flac.fillna('No_Flac', inplace=True)\n",
    "    melon.like = melon.like.str.replace(\"[^0-9]\", \"\")\n",
    "    melon.reply = melon.reply.str.replace(\"[^0-9]\", \"\")\n",
    "\n",
    "    # drop unnecessary features\n",
    "    melon.drop([\"lyricist\", \"composer\", \"arranger\"], axis=1, inplace=True)\n",
    "\n",
    "    # delete rows with null\n",
    "    temp = melon.isnull().any(axis=1)\n",
    "    melon = melon.loc[-temp,:]\n",
    "\n",
    "    # delete rows with no like\n",
    "    temp = melon.like == \"\"\n",
    "    melon = melon.loc[-temp,:]\n",
    "\n",
    "    # convert type of features\n",
    "    melon[[\"like\", \"reply\"]] = melon[[\"like\", \"reply\"]].astype(\"int64\")\n",
    "\n",
    "    # delete unnecessary genres\n",
    "    temp = melon.genre.value_counts() > 10\n",
    "    genre_list = melon.genre.value_counts()[temp].index\n",
    "\n",
    "    temp = [\"Korean Traditional\", \"Pop\", \"Vocal/Choral\", \"가톨릭음악\", \"국내CCM\", \"기타\", \"동요\", \"워십\", \"창작동요\"]\n",
    "    genre_list = [item for item in genre_list if item not in temp]\n",
    "\n",
    "    temp = melon.genre.isin(genre_list)\n",
    "    melon = melon.loc[temp,:]\n",
    "\n",
    "    # compress genre\n",
    "    melon.genre = [\"Animation / Game\" if item in [\"Animation\", \"Game\"] else   \n",
    "                   \"Crossover / Musical\" if item in [\"Crossover\", \"Musical\"] else\n",
    "                   \"Drama / Korean Movie\" if item in [\"Drama\", \"Korean Movie\"] else\n",
    "                   \"Blues / Jazz / New Age\" if item in [\"Blues\", \"Jazz\", \"New Age\"] else\n",
    "                   \"Electronica / Rock\" if item in [\"Electronica\", \"Rock\", \"Electronica,Rock\"] else\n",
    "                   item for item in melon.genre]\n",
    "    return melon\n",
    "\n",
    "if __name__ == \"__main__\":\n",
    "    # directory of melon.csv\n",
    "    pwd = \"./bind_data_melon/melon.csv\"\n",
    "    melon = preprocessing(pwd)"
   ]
  },
  {
   "cell_type": "code",
   "execution_count": 61,
   "metadata": {},
   "outputs": [
    {
     "data": {
      "text/plain": [
       "title     False\n",
       "artist    False\n",
       "album     False\n",
       "date      False\n",
       "genre     False\n",
       "flac      False\n",
       "like      False\n",
       "reply     False\n",
       "lyric     False\n",
       "dtype: bool"
      ]
     },
     "execution_count": 61,
     "metadata": {},
     "output_type": "execute_result"
    }
   ],
   "source": [
    "# select columns with null\n",
    "melon.isnull().any(axis=0)"
   ]
  }
 ],
 "metadata": {
  "kernelspec": {
   "display_name": "Python 3",
   "language": "python",
   "name": "python3"
  },
  "language_info": {
   "codemirror_mode": {
    "name": "ipython",
    "version": 3
   },
   "file_extension": ".py",
   "mimetype": "text/x-python",
   "name": "python",
   "nbconvert_exporter": "python",
   "pygments_lexer": "ipython3",
   "version": "3.6.6"
  }
 },
 "nbformat": 4,
 "nbformat_minor": 2
}
